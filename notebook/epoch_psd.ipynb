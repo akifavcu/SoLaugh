{
 "cells": [
  {
   "cell_type": "code",
   "execution_count": 1,
   "id": "852c0bb4",
   "metadata": {},
   "outputs": [],
   "source": [
    "import mne \n",
    "import os\n",
    "import pickle\n",
    "import argparse\n",
    "import numpy as np\n",
    "import matplotlib.pyplot as plt\n",
    "from src.utils import get_bids_file\n",
    "from src.params import PREPROC_PATH, FREQS_LIST, FREQS_NAMES, EVENTS_ID, RESULT_PATH\n",
    "from mne.time_frequency import (tfr_morlet, AverageTFR)\n",
    "\n"
   ]
  },
  {
   "cell_type": "code",
   "execution_count": 10,
   "id": "5421dbd4",
   "metadata": {},
   "outputs": [],
   "source": [
    "def compute_hilbert_psd(evoked, event_id, freq, freq_name, picks, task, condition) :\n",
    "    evoked.pick_types(meg=True, ref_meg = False,  exclude='bads')\n",
    "    epochs = evoked.average()\n",
    "    \n",
    "    l_freq = freq[0]\n",
    "    h_freq = freq[1]\n",
    "\n",
    "    epochs_filter = epochs.copy()\n",
    "    epochs_filter.filter(l_freq, h_freq, picks = picks)\n",
    "    epochs_hilbert = epochs_filter.apply_hilbert(picks = picks, envelope=True)\n",
    "\n",
    "    tfr_data = epochs_hilbert.get_data()\n",
    "    tfr_data = tfr_data * tfr_data.conj()  # compute power\n",
    "    tfr_data = np.mean(tfr_data, axis=0)  # average over epochs\n",
    "    \n",
    "    tfr_data._data = hilbert._data**2\n",
    "    data[:, idx] = tfr_data\n",
    "    power = AverageTFR(info, data, epochs.times, freqs, nave=n_epochs)\n",
    "\n",
    "    power.plot([0], baseline=(0., 0.1), mode='mean', vmin=-0.1, vmax=0.1,\n",
    "               axes=ax, show=False, colorbar=False)\n",
    "\n",
    "    n_cycles = 'scaled by freqs' if not isinstance(n_cycles, int) else n_cycles\n",
    "    ax.set_title('Sim: Using narrow bandpass filter Hilbert,\\n'\n",
    "                 f'bandwidth = {bandwidth}, '\n",
    "                 f'transition bandwidth = {4 * bandwidth}')\n",
    "    plt.tight_layout()\n",
    "\n",
    "    # Save\n",
    "    _, save_psd = get_bids_file(RESULT_PATH, task=task, stage=\"psd-hilbert\", condition=condition, measure=freq_name)\n",
    "\n",
    "    with open(save_psd, \"wb\") as f:\n",
    "        pickle.dump(epochs_psd, f)\n",
    "\n",
    "    return epochs_psd"
   ]
  },
  {
   "cell_type": "code",
   "execution_count": 13,
   "id": "bb7de3b0",
   "metadata": {},
   "outputs": [],
   "source": [
    "def compute_morlet_psd(epochs, event_id, freq, freq_name, picks, task, condition) :\n",
    "        \n",
    "    epochs.pick_types(meg=True, ref_meg = False,  exclude='bads')\n",
    "    epochs = evoked.average()\n",
    "\n",
    "    # Morlet wavelet\n",
    "    n_cycles = freq / 2.\n",
    "    power = tfr_morlet(epochs, freqs=freq,\n",
    "                    n_cycles=n_cycles, return_itc=False, average=True, picks=picks)\n",
    "    print(type(power))\n",
    "    print(power)\n",
    "\n",
    "    _, save_psd = get_bids_file(RESULT_PATH, task=task, stage=\"psd-morlet\", condition=condition, measure=freq_name)\n",
    "    \n",
    "    with open(save_psd, \"wb\") as f:\n",
    "        pickle.dump(power, f)\n",
    "\n",
    "    power.plot([0], baseline=(0., 0.1), mode='mean', vmin=-3, vmax=3,\n",
    "              title='Using Morlet wavelets and EpochsTFR', show=False)\n",
    "    plt.show()\n",
    "\n",
    "    return power"
   ]
  },
  {
   "cell_type": "code",
   "execution_count": 4,
   "id": "5ada388a",
   "metadata": {},
   "outputs": [],
   "source": [
    "def plot_psd(epochs) :\n",
    "\n",
    "    _, ax = plt.subplots()\n",
    "    spectrum = epochs.compute_psd(fmin=2., fmax=40., tmax=3., n_jobs=None)\n",
    "    print(spectrum)\n",
    "    # average across epochs first\n",
    "    mean_spectrum = spectrum.average()\n",
    "    psds, freqs = spectrum.get_data(return_freqs=True)\n",
    "    # then convert to dB and take mean & standard deviation across channels\n",
    "    psds = 10 * np.log10(psds)\n",
    "    psds_mean = psds.mean(axis=0)\n",
    "    psds_std = psds.std(axis=0)\n",
    "\n",
    "    ax.plot(freqs, psds_mean, color='k')\n",
    "    ax.fill_between(freqs, psds_mean - psds_std, psds_mean + psds_std,\n",
    "                    color='k', alpha=.5, edgecolor='none')\n",
    "    \n",
    "    ax.set(title='Multitaper PSD (gradiometers)', xlabel='Frequency (Hz)',\n",
    "           ylabel='Power Spectral Density (dB)')"
   ]
  },
  {
   "cell_type": "code",
   "execution_count": 15,
   "id": "27110200",
   "metadata": {},
   "outputs": [
    {
     "name": "stdout",
     "output_type": "stream",
     "text": [
      "=> Process task : LaughterActive condition : LaughReal frequency : [ 8 12]\n",
      "Removing 5 compensators from info because not all compensation channels were picked.\n"
     ]
    },
    {
     "name": "stderr",
     "output_type": "stream",
     "text": [
      "[Parallel(n_jobs=1)]: Using backend SequentialBackend with 1 concurrent workers.\n",
      "[Parallel(n_jobs=1)]: Done   1 out of   1 | elapsed:    0.0s remaining:    0.0s\n",
      "[Parallel(n_jobs=1)]: Done   2 out of   2 | elapsed:    0.0s remaining:    0.0s\n",
      "[Parallel(n_jobs=1)]: Done   3 out of   3 | elapsed:    0.0s remaining:    0.0s\n",
      "[Parallel(n_jobs=1)]: Done   4 out of   4 | elapsed:    0.0s remaining:    0.0s\n",
      "[Parallel(n_jobs=1)]: Done 270 out of 270 | elapsed:    0.4s finished\n"
     ]
    },
    {
     "name": "stdout",
     "output_type": "stream",
     "text": [
      "<class 'mne.time_frequency.tfr.AverageTFR'>\n",
      "<AverageTFR | time : [-0.500000, 1.500000], freq : [8.000000, 12.000000], nave : 1, channels : 270, ~11.0 MB>\n",
      "Applying baseline correction (mode: mean)\n"
     ]
    },
    {
     "data": {
      "image/png": "[encoded data removed]",
      "text/plain": [
       "<Figure size 640x480 with 2 Axes>"
      ]
     },
     "metadata": {},
     "output_type": "display_data"
    }
   ],
   "source": [
    "\n",
    "# Conditions and task to compute\n",
    "task = \"LaughterActive\"\n",
    "condition = \"LaughReal\"\n",
    "freq_name = 'alpha'\n",
    "\n",
    "condition_list = [condition]\n",
    "event_id = dict()\n",
    "picks = \"meg\" # Select MEG channels\n",
    "\n",
    "for ev in EVENTS_ID :\n",
    "    for conds in condition_list :\n",
    "        if conds not in EVENTS_ID :\n",
    "            raise Exception(\"Condition is not an event\")\n",
    "        if conds == ev :\n",
    "            event_id[conds] = EVENTS_ID[ev]\n",
    "\n",
    "for idx, f_name in enumerate(FREQS_NAMES) :\n",
    "    if  freq_name in f_name :\n",
    "        freq = FREQS_LIST[idx]\n",
    "        freq = np.asarray(freq)\n",
    "\n",
    "print(\"=> Process task :\", task, \"condition :\", condition, \"frequency :\", freq)\n",
    "\n",
    "# Import epoch files path of one condition\n",
    "_, save_epoch = get_bids_file(RESULT_PATH, task=task, stage=\"erp\", condition=condition)\n",
    "\n",
    "with open(save_epoch, \"rb\") as f:\n",
    "    evoked = pickle.load(f)\n",
    "\n",
    "#epochs_psd = compute_hilbert_psd(evoked, event_id, freq, freq_name, picks, task, condition)\n",
    "\n",
    "power = compute_morlet_psd(evoked, event_id, freq, freq_name, picks, task, condition)"
   ]
  },
  {
   "cell_type": "code",
   "execution_count": 5,
   "id": "42d26a12",
   "metadata": {},
   "outputs": [
    {
     "name": "stdout",
     "output_type": "stream",
     "text": [
      "<EpochsArray |  75 events (all good), -0.5 - 1.5 sec, baseline -0.5 – 0 sec, ~372.2 MB, data loaded, with metadata,\n",
      " 'LaughReal': 75>\n",
      "    Using multitaper spectrum estimation with 7 DPSS windows\n",
      "<Power Spectrum (from Epochs, multitaper method) | 75 epochs × 270 channels × 76 freqs, 2.5-40.0 Hz>\n"
     ]
    },
    {
     "ename": "ValueError",
     "evalue": "x and y must have same first dimension, but have shapes (76,) and (270, 76)",
     "output_type": "error",
     "traceback": [
      "\u001b[0;31m---------------------------------------------------------------------------\u001b[0m",
      "\u001b[0;31mValueError\u001b[0m                                Traceback (most recent call last)",
      "Cell \u001b[0;32mIn[5], line 1\u001b[0m\n\u001b[0;32m----> 1\u001b[0m \u001b[43mplot_psd\u001b[49m\u001b[43m(\u001b[49m\u001b[43mepochs\u001b[49m\u001b[43m)\u001b[49m\n",
      "Cell \u001b[0;32mIn[3], line 14\u001b[0m, in \u001b[0;36mplot_psd\u001b[0;34m(epochs)\u001b[0m\n\u001b[1;32m     11\u001b[0m psds_mean \u001b[38;5;241m=\u001b[39m psds\u001b[38;5;241m.\u001b[39mmean(axis\u001b[38;5;241m=\u001b[39m\u001b[38;5;241m0\u001b[39m)\n\u001b[1;32m     12\u001b[0m psds_std \u001b[38;5;241m=\u001b[39m psds\u001b[38;5;241m.\u001b[39mstd(axis\u001b[38;5;241m=\u001b[39m\u001b[38;5;241m0\u001b[39m)\n\u001b[0;32m---> 14\u001b[0m \u001b[43max\u001b[49m\u001b[38;5;241;43m.\u001b[39;49m\u001b[43mplot\u001b[49m\u001b[43m(\u001b[49m\u001b[43mfreqs\u001b[49m\u001b[43m,\u001b[49m\u001b[43m \u001b[49m\u001b[43mpsds_mean\u001b[49m\u001b[43m,\u001b[49m\u001b[43m \u001b[49m\u001b[43mcolor\u001b[49m\u001b[38;5;241;43m=\u001b[39;49m\u001b[38;5;124;43m'\u001b[39;49m\u001b[38;5;124;43mk\u001b[39;49m\u001b[38;5;124;43m'\u001b[39;49m\u001b[43m)\u001b[49m\n\u001b[1;32m     15\u001b[0m ax\u001b[38;5;241m.\u001b[39mfill_between(freqs, psds_mean \u001b[38;5;241m-\u001b[39m psds_std, psds_mean \u001b[38;5;241m+\u001b[39m psds_std,\n\u001b[1;32m     16\u001b[0m                 color\u001b[38;5;241m=\u001b[39m\u001b[38;5;124m'\u001b[39m\u001b[38;5;124mk\u001b[39m\u001b[38;5;124m'\u001b[39m, alpha\u001b[38;5;241m=\u001b[39m\u001b[38;5;241m.5\u001b[39m, edgecolor\u001b[38;5;241m=\u001b[39m\u001b[38;5;124m'\u001b[39m\u001b[38;5;124mnone\u001b[39m\u001b[38;5;124m'\u001b[39m)\n\u001b[1;32m     17\u001b[0m ax\u001b[38;5;241m.\u001b[39mset(title\u001b[38;5;241m=\u001b[39m\u001b[38;5;124m'\u001b[39m\u001b[38;5;124mMultitaper PSD (gradiometers)\u001b[39m\u001b[38;5;124m'\u001b[39m, xlabel\u001b[38;5;241m=\u001b[39m\u001b[38;5;124m'\u001b[39m\u001b[38;5;124mFrequency (Hz)\u001b[39m\u001b[38;5;124m'\u001b[39m,\n\u001b[1;32m     18\u001b[0m        ylabel\u001b[38;5;241m=\u001b[39m\u001b[38;5;124m'\u001b[39m\u001b[38;5;124mPower Spectral Density (dB)\u001b[39m\u001b[38;5;124m'\u001b[39m)\n",
      "File \u001b[0;32m~/miniconda3/envs/mne/lib/python3.10/site-packages/matplotlib/axes/_axes.py:1662\u001b[0m, in \u001b[0;36mAxes.plot\u001b[0;34m(self, scalex, scaley, data, *args, **kwargs)\u001b[0m\n\u001b[1;32m   1419\u001b[0m \u001b[38;5;124;03m\"\"\"\u001b[39;00m\n\u001b[1;32m   1420\u001b[0m \u001b[38;5;124;03mPlot y versus x as lines and/or markers.\u001b[39;00m\n\u001b[1;32m   1421\u001b[0m \n\u001b[0;32m   (...)\u001b[0m\n\u001b[1;32m   1659\u001b[0m \u001b[38;5;124;03m(``'green'``) or hex strings (``'#008000'``).\u001b[39;00m\n\u001b[1;32m   1660\u001b[0m \u001b[38;5;124;03m\"\"\"\u001b[39;00m\n\u001b[1;32m   1661\u001b[0m kwargs \u001b[38;5;241m=\u001b[39m cbook\u001b[38;5;241m.\u001b[39mnormalize_kwargs(kwargs, mlines\u001b[38;5;241m.\u001b[39mLine2D)\n\u001b[0;32m-> 1662\u001b[0m lines \u001b[38;5;241m=\u001b[39m [\u001b[38;5;241m*\u001b[39m\u001b[38;5;28mself\u001b[39m\u001b[38;5;241m.\u001b[39m_get_lines(\u001b[38;5;241m*\u001b[39margs, data\u001b[38;5;241m=\u001b[39mdata, \u001b[38;5;241m*\u001b[39m\u001b[38;5;241m*\u001b[39mkwargs)]\n\u001b[1;32m   1663\u001b[0m \u001b[38;5;28;01mfor\u001b[39;00m line \u001b[38;5;129;01min\u001b[39;00m lines:\n\u001b[1;32m   1664\u001b[0m     \u001b[38;5;28mself\u001b[39m\u001b[38;5;241m.\u001b[39madd_line(line)\n",
      "File \u001b[0;32m~/miniconda3/envs/mne/lib/python3.10/site-packages/matplotlib/axes/_base.py:311\u001b[0m, in \u001b[0;36m_process_plot_var_args.__call__\u001b[0;34m(self, data, *args, **kwargs)\u001b[0m\n\u001b[1;32m    309\u001b[0m     this \u001b[38;5;241m+\u001b[39m\u001b[38;5;241m=\u001b[39m args[\u001b[38;5;241m0\u001b[39m],\n\u001b[1;32m    310\u001b[0m     args \u001b[38;5;241m=\u001b[39m args[\u001b[38;5;241m1\u001b[39m:]\n\u001b[0;32m--> 311\u001b[0m \u001b[38;5;28;01myield from\u001b[39;00m \u001b[38;5;28;43mself\u001b[39;49m\u001b[38;5;241;43m.\u001b[39;49m\u001b[43m_plot_args\u001b[49m\u001b[43m(\u001b[49m\n\u001b[1;32m    312\u001b[0m \u001b[43m    \u001b[49m\u001b[43mthis\u001b[49m\u001b[43m,\u001b[49m\u001b[43m \u001b[49m\u001b[43mkwargs\u001b[49m\u001b[43m,\u001b[49m\u001b[43m \u001b[49m\u001b[43mambiguous_fmt_datakey\u001b[49m\u001b[38;5;241;43m=\u001b[39;49m\u001b[43mambiguous_fmt_datakey\u001b[49m\u001b[43m)\u001b[49m\n",
      "File \u001b[0;32m~/miniconda3/envs/mne/lib/python3.10/site-packages/matplotlib/axes/_base.py:504\u001b[0m, in \u001b[0;36m_process_plot_var_args._plot_args\u001b[0;34m(self, tup, kwargs, return_kwargs, ambiguous_fmt_datakey)\u001b[0m\n\u001b[1;32m    501\u001b[0m     \u001b[38;5;28mself\u001b[39m\u001b[38;5;241m.\u001b[39maxes\u001b[38;5;241m.\u001b[39myaxis\u001b[38;5;241m.\u001b[39mupdate_units(y)\n\u001b[1;32m    503\u001b[0m \u001b[38;5;28;01mif\u001b[39;00m x\u001b[38;5;241m.\u001b[39mshape[\u001b[38;5;241m0\u001b[39m] \u001b[38;5;241m!=\u001b[39m y\u001b[38;5;241m.\u001b[39mshape[\u001b[38;5;241m0\u001b[39m]:\n\u001b[0;32m--> 504\u001b[0m     \u001b[38;5;28;01mraise\u001b[39;00m \u001b[38;5;167;01mValueError\u001b[39;00m(\u001b[38;5;124mf\u001b[39m\u001b[38;5;124m\"\u001b[39m\u001b[38;5;124mx and y must have same first dimension, but \u001b[39m\u001b[38;5;124m\"\u001b[39m\n\u001b[1;32m    505\u001b[0m                      \u001b[38;5;124mf\u001b[39m\u001b[38;5;124m\"\u001b[39m\u001b[38;5;124mhave shapes \u001b[39m\u001b[38;5;132;01m{\u001b[39;00mx\u001b[38;5;241m.\u001b[39mshape\u001b[38;5;132;01m}\u001b[39;00m\u001b[38;5;124m and \u001b[39m\u001b[38;5;132;01m{\u001b[39;00my\u001b[38;5;241m.\u001b[39mshape\u001b[38;5;132;01m}\u001b[39;00m\u001b[38;5;124m\"\u001b[39m)\n\u001b[1;32m    506\u001b[0m \u001b[38;5;28;01mif\u001b[39;00m x\u001b[38;5;241m.\u001b[39mndim \u001b[38;5;241m>\u001b[39m \u001b[38;5;241m2\u001b[39m \u001b[38;5;129;01mor\u001b[39;00m y\u001b[38;5;241m.\u001b[39mndim \u001b[38;5;241m>\u001b[39m \u001b[38;5;241m2\u001b[39m:\n\u001b[1;32m    507\u001b[0m     \u001b[38;5;28;01mraise\u001b[39;00m \u001b[38;5;167;01mValueError\u001b[39;00m(\u001b[38;5;124mf\u001b[39m\u001b[38;5;124m\"\u001b[39m\u001b[38;5;124mx and y can be no greater than 2D, but have \u001b[39m\u001b[38;5;124m\"\u001b[39m\n\u001b[1;32m    508\u001b[0m                      \u001b[38;5;124mf\u001b[39m\u001b[38;5;124m\"\u001b[39m\u001b[38;5;124mshapes \u001b[39m\u001b[38;5;132;01m{\u001b[39;00mx\u001b[38;5;241m.\u001b[39mshape\u001b[38;5;132;01m}\u001b[39;00m\u001b[38;5;124m and \u001b[39m\u001b[38;5;132;01m{\u001b[39;00my\u001b[38;5;241m.\u001b[39mshape\u001b[38;5;132;01m}\u001b[39;00m\u001b[38;5;124m\"\u001b[39m)\n",
      "\u001b[0;31mValueError\u001b[0m: x and y must have same first dimension, but have shapes (76,) and (270, 76)"
     ]
    },
    {
     "data": {
      "image/png": "[encoded data removed]",
      "text/plain": [
       "<Figure size 640x480 with 1 Axes>"
      ]
     },
     "metadata": {},
     "output_type": "display_data"
    }
   ],
   "source": [
    "plot_psd(epochs)"
   ]
  },
  {
   "cell_type": "code",
   "execution_count": 9,
   "id": "7fbb834d",
   "metadata": {},
   "outputs": [
    {
     "data": {
      "text/html": [
       "<table class=\"table table-hover table-striped table-sm table-responsive small\">\n",
       "    <tr>\n",
       "        <th>Measurement date</th>\n",
       "        \n",
       "        <td>October 13, 2016  18:28:00 GMT</td>\n",
       "        \n",
       "    </tr>\n",
       "    <tr>\n",
       "        <th>Experimenter</th>\n",
       "        \n",
       "        <td>mne_anonymize</td>\n",
       "        \n",
       "    </tr>\n",
       "        <th>Participant</th>\n",
       "        \n",
       "            \n",
       "            <td>sub-02</td>\n",
       "            \n",
       "        \n",
       "    </tr>\n",
       "    <tr>\n",
       "        <th>Digitized points</th>\n",
       "        \n",
       "        <td>2429 points</td>\n",
       "        \n",
       "    </tr>\n",
       "    <tr>\n",
       "        <th>Good channels</th>\n",
       "        <td>270 Magnetometers</td>\n",
       "    </tr>\n",
       "    <tr>\n",
       "        <th>Bad channels</th>\n",
       "        <td>None</td>\n",
       "    </tr>\n",
       "    <tr>\n",
       "        <th>EOG channels</th>\n",
       "        <td>Not available</td>\n",
       "    </tr>\n",
       "    <tr>\n",
       "        <th>ECG channels</th>\n",
       "        <td>Not available</td>\n",
       "    \n",
       "    <tr>\n",
       "        <th>Sampling frequency</th>\n",
       "        <td>1200.00 Hz</td>\n",
       "    </tr>\n",
       "    \n",
       "    \n",
       "    <tr>\n",
       "        <th>Highpass</th>\n",
       "        <td>1.00 Hz</td>\n",
       "    </tr>\n",
       "    \n",
       "    \n",
       "    <tr>\n",
       "        <th>Lowpass</th>\n",
       "        <td>120.00 Hz</td>\n",
       "    </tr>\n",
       "    \n",
       "    \n",
       "</table>"
      ],
      "text/plain": [
       "<Info | 17 non-empty values\n",
       " bads: []\n",
       " ch_names: MLC11-3105, MLC12-3105, MLC13-3105, MLC14-3105, MLC15-3105, ...\n",
       " chs: 270 Magnetometers\n",
       " ctf_head_t: CTF/4D/KIT head -> head transform\n",
       " custom_ref_applied: False\n",
       " description: Anonymized using a time shift to preserve age at acquisition\n",
       " dev_ctf_t: MEG device -> CTF/4D/KIT head transform\n",
       " dev_head_t: MEG device -> head transform\n",
       " dig: 2429 items (3 Cardinal, 2426 Extra)\n",
       " experimenter: mne_anonymize\n",
       " file_id: 4 items (dict)\n",
       " highpass: 1.0 Hz\n",
       " hpi_results: 1 item (list)\n",
       " lowpass: 120.0 Hz\n",
       " meas_date: 2016-10-13 18:28:00 UTC\n",
       " meas_id: 4 items (dict)\n",
       " nchan: 270\n",
       " projs: []\n",
       " sfreq: 1200.0 Hz\n",
       " subject_info: 3 items (dict)\n",
       ">"
      ]
     },
     "execution_count": 9,
     "metadata": {},
     "output_type": "execute_result"
    }
   ],
   "source": [
    "epochs.info"
   ]
  },
  {
   "cell_type": "code",
   "execution_count": null,
   "id": "74ddbd5a",
   "metadata": {},
   "outputs": [],
   "source": []
  }
 ],
 "metadata": {
  "kernelspec": {
   "display_name": "Python 3 (ipykernel)",
   "language": "python",
   "name": "python3"
  },
  "language_info": {
   "codemirror_mode": {
    "name": "ipython",
    "version": 3
   },
   "file_extension": ".py",
   "mimetype": "text/x-python",
   "name": "python",
   "nbconvert_exporter": "python",
   "pygments_lexer": "ipython3",
   "version": "3.10.8"
  }
 },
 "nbformat": 4,
 "nbformat_minor": 5
}
