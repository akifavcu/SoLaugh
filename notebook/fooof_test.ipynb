{
 "cells": [
  {
   "cell_type": "code",
   "execution_count": 1,
   "metadata": {},
   "outputs": [],
   "source": [
    "from fooof import FOOOF\n",
    "from src.utils import get_bids_file\n",
    "from src.params import RESULT_PATH, PREPROC_PATH, SUBJ_CLEAN, ACTIVE_RUN, PASSIVE_RUN\n",
    "import mne\n",
    "import numpy as np\n",
    "from fooof.utils.download import load_fooof_data\n",
    "import matplotlib.pyplot as plt"
   ]
  },
  {
   "cell_type": "code",
   "execution_count": 17,
   "metadata": {
    "scrolled": true
   },
   "outputs": [
    {
     "name": "stdout",
     "output_type": "stream",
     "text": [
      "condition --> LaughReal\n",
      "Reading /home/claraelk/scratch/laughter_data/preproc_bids_data/sub-01/ses-recording/meg/sub-01_ses-recording_task-LaughterActive_proc-clean_epo.fif ...\n",
      "    Read 5 compensation matrices\n",
      "    Found the data of interest:\n",
      "        t =    -500.00 ...    1500.00 ms\n",
      "        5 CTF compensation matrices available\n",
      "Adding metadata with 7 columns\n",
      "299 matching events found\n",
      "No baseline correction applied\n",
      "0 projection items activated\n",
      "Removing 5 compensators from info because not all compensation channels were picked.\n",
      "Applying baseline correction (mode: mean)\n",
      "    Using multitaper spectrum estimation with 7 DPSS windows\n",
      "Reading /home/claraelk/scratch/laughter_data/preproc_bids_data/sub-01/ses-recording/meg/sub-01_ses-recording_task-LaughterActive_proc-clean_epo.fif ...\n",
      "    Read 5 compensation matrices\n",
      "    Found the data of interest:\n",
      "        t =    -500.00 ...    1500.00 ms\n",
      "        5 CTF compensation matrices available\n",
      "Adding metadata with 7 columns\n",
      "299 matching events found\n",
      "No baseline correction applied\n",
      "0 projection items activated\n",
      "Removing 5 compensators from info because not all compensation channels were picked.\n",
      "Applying baseline correction (mode: mean)\n",
      "    Using multitaper spectrum estimation with 7 DPSS windows\n",
      "Reading /home/claraelk/scratch/laughter_data/preproc_bids_data/sub-01/ses-recording/meg/sub-01_ses-recording_task-LaughterActive_proc-clean_epo.fif ...\n",
      "    Read 5 compensation matrices\n",
      "    Found the data of interest:\n",
      "        t =    -500.00 ...    1500.00 ms\n",
      "        5 CTF compensation matrices available\n",
      "Adding metadata with 7 columns\n",
      "299 matching events found\n",
      "No baseline correction applied\n",
      "0 projection items activated\n",
      "Removing 5 compensators from info because not all compensation channels were picked.\n",
      "Applying baseline correction (mode: mean)\n",
      "    Using multitaper spectrum estimation with 7 DPSS windows\n",
      "Reading /home/claraelk/scratch/laughter_data/preproc_bids_data/sub-01/ses-recording/meg/sub-01_ses-recording_task-LaughterActive_proc-clean_epo.fif ...\n",
      "    Read 5 compensation matrices\n",
      "    Found the data of interest:\n",
      "        t =    -500.00 ...    1500.00 ms\n",
      "        5 CTF compensation matrices available\n",
      "Adding metadata with 7 columns\n",
      "299 matching events found\n",
      "No baseline correction applied\n",
      "0 projection items activated\n",
      "Removing 5 compensators from info because not all compensation channels were picked.\n",
      "Applying baseline correction (mode: mean)\n",
      "    Using multitaper spectrum estimation with 7 DPSS windows\n",
      "Reading /home/claraelk/scratch/laughter_data/preproc_bids_data/sub-01/ses-recording/meg/sub-01_ses-recording_task-LaughterActive_proc-clean_epo.fif ...\n",
      "    Read 5 compensation matrices\n",
      "    Found the data of interest:\n",
      "        t =    -500.00 ...    1500.00 ms\n",
      "        5 CTF compensation matrices available\n",
      "Adding metadata with 7 columns\n",
      "299 matching events found\n",
      "No baseline correction applied\n",
      "0 projection items activated\n",
      "Removing 5 compensators from info because not all compensation channels were picked.\n",
      "Applying baseline correction (mode: mean)\n",
      "    Using multitaper spectrum estimation with 7 DPSS windows\n",
      "Reading /home/claraelk/scratch/laughter_data/preproc_bids_data/sub-01/ses-recording/meg/sub-01_ses-recording_task-LaughterActive_proc-clean_epo.fif ...\n",
      "    Read 5 compensation matrices\n",
      "    Found the data of interest:\n",
      "        t =    -500.00 ...    1500.00 ms\n",
      "        5 CTF compensation matrices available\n",
      "Adding metadata with 7 columns\n",
      "299 matching events found\n",
      "No baseline correction applied\n",
      "0 projection items activated\n",
      "Removing 5 compensators from info because not all compensation channels were picked.\n",
      "Applying baseline correction (mode: mean)\n",
      "    Using multitaper spectrum estimation with 7 DPSS windows\n",
      "(75, 2401)\n",
      "(75, 2401)\n",
      "(75, 2401)\n",
      "(75, 2401)\n",
      "(75, 2401)\n",
      "(75, 2401)\n",
      "(2401,)\n",
      "Reading /home/claraelk/scratch/laughter_data/preproc_bids_data/sub-02/ses-recording/meg/sub-02_ses-recording_task-LaughterActive_proc-clean_epo.fif ...\n",
      "    Read 5 compensation matrices\n",
      "    Found the data of interest:\n",
      "        t =    -500.00 ...    1500.00 ms\n",
      "        5 CTF compensation matrices available\n",
      "Adding metadata with 7 columns\n",
      "299 matching events found\n",
      "No baseline correction applied\n",
      "0 projection items activated\n",
      "Removing 5 compensators from info because not all compensation channels were picked.\n",
      "Applying baseline correction (mode: mean)\n",
      "    Using multitaper spectrum estimation with 7 DPSS windows\n",
      "Reading /home/claraelk/scratch/laughter_data/preproc_bids_data/sub-02/ses-recording/meg/sub-02_ses-recording_task-LaughterActive_proc-clean_epo.fif ...\n",
      "    Read 5 compensation matrices\n",
      "    Found the data of interest:\n",
      "        t =    -500.00 ...    1500.00 ms\n",
      "        5 CTF compensation matrices available\n",
      "Adding metadata with 7 columns\n",
      "299 matching events found\n",
      "No baseline correction applied\n",
      "0 projection items activated\n",
      "Removing 5 compensators from info because not all compensation channels were picked.\n",
      "Applying baseline correction (mode: mean)\n",
      "    Using multitaper spectrum estimation with 7 DPSS windows\n",
      "Reading /home/claraelk/scratch/laughter_data/preproc_bids_data/sub-02/ses-recording/meg/sub-02_ses-recording_task-LaughterActive_proc-clean_epo.fif ...\n",
      "    Read 5 compensation matrices\n",
      "    Found the data of interest:\n",
      "        t =    -500.00 ...    1500.00 ms\n",
      "        5 CTF compensation matrices available\n",
      "Adding metadata with 7 columns\n",
      "299 matching events found\n",
      "No baseline correction applied\n",
      "0 projection items activated\n",
      "Removing 5 compensators from info because not all compensation channels were picked.\n",
      "Applying baseline correction (mode: mean)\n",
      "    Using multitaper spectrum estimation with 7 DPSS windows\n",
      "Reading /home/claraelk/scratch/laughter_data/preproc_bids_data/sub-02/ses-recording/meg/sub-02_ses-recording_task-LaughterActive_proc-clean_epo.fif ...\n",
      "    Read 5 compensation matrices\n",
      "    Found the data of interest:\n",
      "        t =    -500.00 ...    1500.00 ms\n",
      "        5 CTF compensation matrices available\n",
      "Adding metadata with 7 columns\n",
      "299 matching events found\n",
      "No baseline correction applied\n",
      "0 projection items activated\n",
      "Removing 5 compensators from info because not all compensation channels were picked.\n",
      "Applying baseline correction (mode: mean)\n",
      "    Using multitaper spectrum estimation with 7 DPSS windows\n",
      "Reading /home/claraelk/scratch/laughter_data/preproc_bids_data/sub-02/ses-recording/meg/sub-02_ses-recording_task-LaughterActive_proc-clean_epo.fif ...\n",
      "    Read 5 compensation matrices\n",
      "    Found the data of interest:\n",
      "        t =    -500.00 ...    1500.00 ms\n",
      "        5 CTF compensation matrices available\n",
      "Adding metadata with 7 columns\n",
      "299 matching events found\n",
      "No baseline correction applied\n",
      "0 projection items activated\n",
      "Removing 5 compensators from info because not all compensation channels were picked.\n",
      "Applying baseline correction (mode: mean)\n",
      "    Using multitaper spectrum estimation with 7 DPSS windows\n",
      "Reading /home/claraelk/scratch/laughter_data/preproc_bids_data/sub-02/ses-recording/meg/sub-02_ses-recording_task-LaughterActive_proc-clean_epo.fif ...\n",
      "    Read 5 compensation matrices\n",
      "    Found the data of interest:\n",
      "        t =    -500.00 ...    1500.00 ms\n",
      "        5 CTF compensation matrices available\n",
      "Adding metadata with 7 columns\n",
      "299 matching events found\n",
      "No baseline correction applied\n",
      "0 projection items activated\n",
      "Removing 5 compensators from info because not all compensation channels were picked.\n",
      "Applying baseline correction (mode: mean)\n",
      "    Using multitaper spectrum estimation with 7 DPSS windows\n",
      "(75, 2401)\n",
      "(75, 2401)\n",
      "(75, 2401)\n",
      "(75, 2401)\n",
      "(75, 2401)\n",
      "(75, 2401)\n",
      "(2401,)\n",
      "(2, 2401)\n",
      "(76,)\n",
      "(76,)\n"
     ]
    }
   ],
   "source": [
    "task = 'LaughterActive'\n",
    "conditions = ['LaughReal']\n",
    "all_psd = []\n",
    "\n",
    "if task == 'LaughterActive':\n",
    "    run_list = ACTIVE_RUN\n",
    "elif task == 'LaughterPassive':\n",
    "    run_list = PASSIVE_RUN\n",
    "\n",
    "for i, cond in enumerate(conditions) :\n",
    "    print('condition -->', cond)\n",
    "    list_all_data = []\n",
    "    list_epochs_ave = []\n",
    "    freqs_list = []\n",
    "\n",
    "    for subj in ['01', '02'] :\n",
    "        epochs_time = []\n",
    "        list_epochs = []\n",
    "\n",
    "        for run in run_list : \n",
    "            _, psd_path = get_bids_file(PREPROC_PATH, subj=subj, task=task, run=run, stage='proc-clean_epo')\n",
    "            epochs = mne.read_epochs(psd_path)\n",
    "            epochs.pick_types(meg=True, ref_meg=False,  exclude='bads')\n",
    "            epochs = epochs.apply_baseline(baseline=(None, 0))\n",
    "            \n",
    "            psd = epochs[cond].compute_psd(fmin=2.0, fmax=40.0)\n",
    "\n",
    "            freqs_subj = psd.freqs\n",
    "            freqs_list.append(freqs_subj)\n",
    "            \n",
    "            data = psd.get_data()\n",
    "            all_psd.append(data)\n",
    "            data_ave_epochs = np.mean(data, axis = 0)\n",
    "\n",
    "            # Average frequency across subjects\n",
    "freqs = np.mean(np.array(freqs_list), axis=0)\n",
    "print(freqs.shape)\n",
    "\n",
    "# Average power across :\n",
    "# runs\n",
    "psd_ave_run = np.mean(np.array(all_psd), axis=0)\n",
    "# epochs\n",
    "psd_ave_epo = np.mean(np.array(psd_ave_run), axis=0)\n",
    "# channels\n",
    "psd = np.mean(np.array(psd_ave_epo), axis=0)\n",
    "\n",
    "print(psd.shape)"
   ]
  },
  {
   "cell_type": "code",
   "execution_count": 16,
   "metadata": {},
   "outputs": [
    {
     "data": {
      "text/plain": [
       "(12, 75, 270, 76)"
      ]
     },
     "execution_count": 16,
     "metadata": {},
     "output_type": "execute_result"
    }
   ],
   "source": [
    "np.array(all_psd).shape"
   ]
  },
  {
   "cell_type": "code",
   "execution_count": 13,
   "metadata": {},
   "outputs": [
    {
     "data": {
      "text/plain": [
       "(76,)"
      ]
     },
     "execution_count": 13,
     "metadata": {},
     "output_type": "execute_result"
    }
   ],
   "source": [
    "spectrum.shape"
   ]
  },
  {
   "cell_type": "code",
   "execution_count": 4,
   "metadata": {},
   "outputs": [],
   "source": [
    "freqs = np.linspace(1, 40, 2401)"
   ]
  },
  {
   "cell_type": "code",
   "execution_count": 5,
   "metadata": {},
   "outputs": [
    {
     "data": {
      "text/plain": [
       "(2401,)"
      ]
     },
     "execution_count": 5,
     "metadata": {},
     "output_type": "execute_result"
    }
   ],
   "source": [
    "freqs.shape"
   ]
  },
  {
   "cell_type": "code",
   "execution_count": 7,
   "metadata": {},
   "outputs": [
    {
     "name": "stderr",
     "output_type": "stream",
     "text": [
      "/home/claraelk/notebook/lib/python3.8/site-packages/fooof/objs/fit.py:1184: RuntimeWarning: invalid value encountered in log10\n",
      "  power_spectrum = np.log10(power_spectrum)\n"
     ]
    },
    {
     "ename": "DataError",
     "evalue": "The input power spectra data, after logging, contains NaNs or Infs. This will cause the fitting to fail. One reason this can happen is if inputs are already logged. Inputs data should be in linear spacing, not log.",
     "output_type": "error",
     "traceback": [
      "\u001b[0;31m---------------------------------------------------------------------------\u001b[0m",
      "\u001b[0;31mDataError\u001b[0m                                 Traceback (most recent call last)",
      "Cell \u001b[0;32mIn[7], line 7\u001b[0m\n\u001b[1;32m      4\u001b[0m freq_range \u001b[38;5;241m=\u001b[39m [\u001b[38;5;241m2\u001b[39m, \u001b[38;5;241m40\u001b[39m]\n\u001b[1;32m      6\u001b[0m \u001b[38;5;66;03m# Report: fit the model, print the resulting parameters, and plot the reconstruction\u001b[39;00m\n\u001b[0;32m----> 7\u001b[0m \u001b[43mfm\u001b[49m\u001b[38;5;241;43m.\u001b[39;49m\u001b[43mreport\u001b[49m\u001b[43m(\u001b[49m\u001b[43mfreqs\u001b[49m\u001b[38;5;241;43m=\u001b[39;49m\u001b[43mfreqs\u001b[49m\u001b[43m,\u001b[49m\u001b[43m \u001b[49m\u001b[43mpower_spectrum\u001b[49m\u001b[38;5;241;43m=\u001b[39;49m\u001b[43mall_subj_psd\u001b[49m\u001b[43m,\u001b[49m\u001b[43m \u001b[49m\u001b[43mfreq_range\u001b[49m\u001b[38;5;241;43m=\u001b[39;49m\u001b[43mfreq_range\u001b[49m\u001b[43m)\u001b[49m\n",
      "File \u001b[0;32m~/notebook/lib/python3.8/site-packages/fooof/objs/fit.py:385\u001b[0m, in \u001b[0;36mFOOOF.report\u001b[0;34m(self, freqs, power_spectrum, freq_range, plt_log)\u001b[0m\n\u001b[1;32m    365\u001b[0m \u001b[38;5;28;01mdef\u001b[39;00m \u001b[38;5;21mreport\u001b[39m(\u001b[38;5;28mself\u001b[39m, freqs\u001b[38;5;241m=\u001b[39m\u001b[38;5;28;01mNone\u001b[39;00m, power_spectrum\u001b[38;5;241m=\u001b[39m\u001b[38;5;28;01mNone\u001b[39;00m, freq_range\u001b[38;5;241m=\u001b[39m\u001b[38;5;28;01mNone\u001b[39;00m, plt_log\u001b[38;5;241m=\u001b[39m\u001b[38;5;28;01mFalse\u001b[39;00m):\n\u001b[1;32m    366\u001b[0m \u001b[38;5;250m    \u001b[39m\u001b[38;5;124;03m\"\"\"Run model fit, and display a report, which includes a plot, and printed results.\u001b[39;00m\n\u001b[1;32m    367\u001b[0m \n\u001b[1;32m    368\u001b[0m \u001b[38;5;124;03m    Parameters\u001b[39;00m\n\u001b[0;32m   (...)\u001b[0m\n\u001b[1;32m    382\u001b[0m \u001b[38;5;124;03m    Data is optional, if data has already been added to the object.\u001b[39;00m\n\u001b[1;32m    383\u001b[0m \u001b[38;5;124;03m    \"\"\"\u001b[39;00m\n\u001b[0;32m--> 385\u001b[0m     \u001b[38;5;28;43mself\u001b[39;49m\u001b[38;5;241;43m.\u001b[39;49m\u001b[43mfit\u001b[49m\u001b[43m(\u001b[49m\u001b[43mfreqs\u001b[49m\u001b[43m,\u001b[49m\u001b[43m \u001b[49m\u001b[43mpower_spectrum\u001b[49m\u001b[43m,\u001b[49m\u001b[43m \u001b[49m\u001b[43mfreq_range\u001b[49m\u001b[43m)\u001b[49m\n\u001b[1;32m    386\u001b[0m     \u001b[38;5;28mself\u001b[39m\u001b[38;5;241m.\u001b[39mplot(plt_log\u001b[38;5;241m=\u001b[39mplt_log)\n\u001b[1;32m    387\u001b[0m     \u001b[38;5;28mself\u001b[39m\u001b[38;5;241m.\u001b[39mprint_results(concise\u001b[38;5;241m=\u001b[39m\u001b[38;5;28;01mFalse\u001b[39;00m)\n",
      "File \u001b[0;32m~/notebook/lib/python3.8/site-packages/fooof/objs/fit.py:416\u001b[0m, in \u001b[0;36mFOOOF.fit\u001b[0;34m(self, freqs, power_spectrum, freq_range)\u001b[0m\n\u001b[1;32m    414\u001b[0m \u001b[38;5;66;03m# If freqs & power_spectrum provided together, add data to object.\u001b[39;00m\n\u001b[1;32m    415\u001b[0m \u001b[38;5;28;01mif\u001b[39;00m freqs \u001b[38;5;129;01mis\u001b[39;00m \u001b[38;5;129;01mnot\u001b[39;00m \u001b[38;5;28;01mNone\u001b[39;00m \u001b[38;5;129;01mand\u001b[39;00m power_spectrum \u001b[38;5;129;01mis\u001b[39;00m \u001b[38;5;129;01mnot\u001b[39;00m \u001b[38;5;28;01mNone\u001b[39;00m:\n\u001b[0;32m--> 416\u001b[0m     \u001b[38;5;28;43mself\u001b[39;49m\u001b[38;5;241;43m.\u001b[39;49m\u001b[43madd_data\u001b[49m\u001b[43m(\u001b[49m\u001b[43mfreqs\u001b[49m\u001b[43m,\u001b[49m\u001b[43m \u001b[49m\u001b[43mpower_spectrum\u001b[49m\u001b[43m,\u001b[49m\u001b[43m \u001b[49m\u001b[43mfreq_range\u001b[49m\u001b[43m)\u001b[49m\n\u001b[1;32m    417\u001b[0m \u001b[38;5;66;03m# If power spectrum provided alone, add to object, and use existing frequency data\u001b[39;00m\n\u001b[1;32m    418\u001b[0m \u001b[38;5;66;03m#   Note: be careful passing in power_spectrum data like this:\u001b[39;00m\n\u001b[1;32m    419\u001b[0m \u001b[38;5;66;03m#     It assumes the power_spectrum is already logged, with correct freq_range\u001b[39;00m\n\u001b[1;32m    420\u001b[0m \u001b[38;5;28;01melif\u001b[39;00m \u001b[38;5;28misinstance\u001b[39m(power_spectrum, np\u001b[38;5;241m.\u001b[39mndarray):\n",
      "File \u001b[0;32m~/notebook/lib/python3.8/site-packages/fooof/objs/fit.py:314\u001b[0m, in \u001b[0;36mFOOOF.add_data\u001b[0;34m(self, freqs, power_spectrum, freq_range)\u001b[0m\n\u001b[1;32m    310\u001b[0m \u001b[38;5;28;01mif\u001b[39;00m np\u001b[38;5;241m.\u001b[39many(\u001b[38;5;28mself\u001b[39m\u001b[38;5;241m.\u001b[39mfreqs):\n\u001b[1;32m    311\u001b[0m     \u001b[38;5;28mself\u001b[39m\u001b[38;5;241m.\u001b[39m_reset_data_results(\u001b[38;5;28;01mTrue\u001b[39;00m, \u001b[38;5;28;01mTrue\u001b[39;00m, \u001b[38;5;28;01mTrue\u001b[39;00m)\n\u001b[1;32m    313\u001b[0m \u001b[38;5;28mself\u001b[39m\u001b[38;5;241m.\u001b[39mfreqs, \u001b[38;5;28mself\u001b[39m\u001b[38;5;241m.\u001b[39mpower_spectrum, \u001b[38;5;28mself\u001b[39m\u001b[38;5;241m.\u001b[39mfreq_range, \u001b[38;5;28mself\u001b[39m\u001b[38;5;241m.\u001b[39mfreq_res \u001b[38;5;241m=\u001b[39m \\\n\u001b[0;32m--> 314\u001b[0m     \u001b[38;5;28;43mself\u001b[39;49m\u001b[38;5;241;43m.\u001b[39;49m\u001b[43m_prepare_data\u001b[49m\u001b[43m(\u001b[49m\u001b[43mfreqs\u001b[49m\u001b[43m,\u001b[49m\u001b[43m \u001b[49m\u001b[43mpower_spectrum\u001b[49m\u001b[43m,\u001b[49m\u001b[43m \u001b[49m\u001b[43mfreq_range\u001b[49m\u001b[43m,\u001b[49m\u001b[43m \u001b[49m\u001b[38;5;241;43m1\u001b[39;49m\u001b[43m,\u001b[49m\u001b[43m \u001b[49m\u001b[38;5;28;43mself\u001b[39;49m\u001b[38;5;241;43m.\u001b[39;49m\u001b[43mverbose\u001b[49m\u001b[43m)\u001b[49m\n",
      "File \u001b[0;32m~/notebook/lib/python3.8/site-packages/fooof/objs/fit.py:1188\u001b[0m, in \u001b[0;36mFOOOF._prepare_data\u001b[0;34m(freqs, power_spectrum, freq_range, spectra_dim, verbose)\u001b[0m\n\u001b[1;32m   1186\u001b[0m \u001b[38;5;66;03m# Check if there are any infs / nans, and raise an error if so\u001b[39;00m\n\u001b[1;32m   1187\u001b[0m \u001b[38;5;28;01mif\u001b[39;00m np\u001b[38;5;241m.\u001b[39many(np\u001b[38;5;241m.\u001b[39misinf(power_spectrum)) \u001b[38;5;129;01mor\u001b[39;00m np\u001b[38;5;241m.\u001b[39many(np\u001b[38;5;241m.\u001b[39misnan(power_spectrum)):\n\u001b[0;32m-> 1188\u001b[0m     \u001b[38;5;28;01mraise\u001b[39;00m DataError(\u001b[38;5;124m\"\u001b[39m\u001b[38;5;124mThe input power spectra data, after logging, contains NaNs or Infs. \u001b[39m\u001b[38;5;124m\"\u001b[39m\n\u001b[1;32m   1189\u001b[0m                     \u001b[38;5;124m\"\u001b[39m\u001b[38;5;124mThis will cause the fitting to fail. \u001b[39m\u001b[38;5;124m\"\u001b[39m\n\u001b[1;32m   1190\u001b[0m                     \u001b[38;5;124m\"\u001b[39m\u001b[38;5;124mOne reason this can happen is if inputs are already logged. \u001b[39m\u001b[38;5;124m\"\u001b[39m\n\u001b[1;32m   1191\u001b[0m                     \u001b[38;5;124m\"\u001b[39m\u001b[38;5;124mInputs data should be in linear spacing, not log.\u001b[39m\u001b[38;5;124m\"\u001b[39m)\n\u001b[1;32m   1193\u001b[0m \u001b[38;5;28;01mreturn\u001b[39;00m freqs, power_spectrum, freq_range, freq_res\n",
      "\u001b[0;31mDataError\u001b[0m: The input power spectra data, after logging, contains NaNs or Infs. This will cause the fitting to fail. One reason this can happen is if inputs are already logged. Inputs data should be in linear spacing, not log."
     ]
    }
   ],
   "source": [
    "fm = FOOOF()\n",
    "\n",
    "# Set the frequency range to fit the model\n",
    "freq_range = [2, 40]\n",
    "\n",
    "# Report: fit the model, print the resulting parameters, and plot the reconstruction\n",
    "fm.report(freqs=freqs, power_spectrum=all_subj_psd, freq_range=freq_range)"
   ]
  },
  {
   "cell_type": "code",
   "execution_count": null,
   "metadata": {},
   "outputs": [],
   "source": [
    "fooof_path = os.path.join(RESULT_PATH, 'meg', 'reports', 'sub-all')\n",
    "fm.fit(data_psd, data_psd, freq_range)  \n",
    "fm.save('fooof_data', fooof_path, save_results=True, save_settings=True, save_data=True)\n",
    "fm.save_report('fooof_report', fooof_path)"
   ]
  }
 ],
 "metadata": {
  "kernelspec": {
   "display_name": "Python 3 (ipykernel)",
   "language": "python",
   "name": "python3"
  },
  "language_info": {
   "codemirror_mode": {
    "name": "ipython",
    "version": 3
   },
   "file_extension": ".py",
   "mimetype": "text/x-python",
   "name": "python",
   "nbconvert_exporter": "python",
   "pygments_lexer": "ipython3",
   "version": "3.8.10"
  }
 },
 "nbformat": 4,
 "nbformat_minor": 2
}
