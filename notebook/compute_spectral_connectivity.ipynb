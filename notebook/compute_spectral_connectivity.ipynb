{
 "cells": [
  {
   "cell_type": "code",
   "execution_count": 1,
   "id": "3addd398",
   "metadata": {},
   "outputs": [],
   "source": [
    "import mne \n",
    "import pickle\n",
    "import argparse\n",
    "import numpy as np\n",
    "import matplotlib.pyplot as plt\n",
    "import os\n",
    "\n",
    "from mne_connectivity import spectral_connectivity_epochs\n",
    "\n",
    "from src.params import SUBJ_CLEAN, RESULT_PATH, ACTIVE_RUN, PASSIVE_RUN, FIG_PATH, PREPROC_PATH, FREQS_LIST, FREQS_NAMES\n",
    "from src.utils import get_bids_file\n",
    "from sklearn.preprocessing import StandardScaler\n",
    "from sklearn.pipeline import make_pipeline\n",
    "from sklearn.ensemble import RandomForestClassifier, GradientBoostingClassifier\n",
    "from sklearn.model_selection import cross_val_score, ShuffleSplit, RandomizedSearchCV, GridSearchCV, LeaveOneGroupOut\n",
    "from sklearn.neighbors import KNeighborsClassifier\n",
    "from sklearn.linear_model import LogisticRegression\n",
    "from sklearn import svm\n"
   ]
  },
  {
   "cell_type": "code",
   "execution_count": null,
   "id": "3bd08854",
   "metadata": {},
   "outputs": [],
   "source": [
    "all_epochs = []\n",
    "subj_list = SUBJ_CLEAN\n",
    "task='LaughterActive'\n",
    "cond1 = 'LaughReal'\n",
    "freq_name = 'alpha'\n",
    "stage = 'psd_epo'\n",
    "\n",
    "\n",
    "if task == 'LaughterActive' :\n",
    "    run_list = ACTIVE_RUN\n",
    "elif task == 'LaughterPassive':\n",
    "    run_list = PASSIVE_RUN\n",
    "\n",
    "for i, freq in enumerate(FREQS_NAMES) : \n",
    "    if freq == freq_name :\n",
    "        fmin, fmax = FREQS_LIST[i][0], FREQS_LIST[i][1]\n",
    "\n",
    "\n",
    "for subj in subj_list : \n",
    "    for run in run_list : \n",
    "        _, psd_path = get_bids_file(RESULT_PATH, stage=stage, subj=subj, task=task, run=run, measure=freq_name)\n",
    "        epochs_run = mne.read_epochs(psd_path)\n",
    "        sfreq = epochs_run.info['sfreq'] \n",
    "        all_epochs.append(epochs_run[cond1])\n",
    "\n",
    "epochs = mne.concatenate_epochs(all_epochs)"
   ]
  },
  {
   "cell_type": "code",
   "execution_count": null,
   "id": "c919a2b4",
   "metadata": {},
   "outputs": [],
   "source": [
    "# Compute connectivity\n",
    "method = 'wpli'\n",
    "\n",
    "con_wpli = spectral_connectivity_epochs(epochs, method=method, mode='multitaper', sfreq=sfreq, fmin=fmin,\n",
    "                                        fmax=fmax, faverage=True, tmin=tmin, mt_adaptive=False, n_jobs=1)"
   ]
  },
  {
   "cell_type": "code",
   "execution_count": null,
   "id": "13f4d8e3",
   "metadata": {},
   "outputs": [],
   "source": [
    "# Plot connectivity matrice\n",
    "fig, axs = plt.subplots(1, figsize=(14, 5), sharey=True)\n",
    "\n",
    "axs[1].imshow(con_wpli.get_data('dense'), vmin=0, vmax=1)\n",
    "axs[1].set_title(\"wPLI\")\n",
    "axs[1].set_xlabel(\"Sensor 2\")"
   ]
  }
 ],
 "metadata": {
  "kernelspec": {
   "display_name": "Python 3 (ipykernel)",
   "language": "python",
   "name": "python3"
  },
  "language_info": {
   "codemirror_mode": {
    "name": "ipython",
    "version": 3
   },
   "file_extension": ".py",
   "mimetype": "text/x-python",
   "name": "python",
   "nbconvert_exporter": "python",
   "pygments_lexer": "ipython3",
   "version": "3.8.10"
  }
 },
 "nbformat": 4,
 "nbformat_minor": 5
}
