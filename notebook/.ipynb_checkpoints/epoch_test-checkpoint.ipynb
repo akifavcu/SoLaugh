{
 "cells": [
  {
   "cell_type": "code",
   "execution_count": 24,
   "id": "fafb38a5",
   "metadata": {},
   "outputs": [],
   "source": [
    "import mne\n",
    "from src.params import BIDS_PATH, RESULT_PATH\n",
    "from src.utils import get_bids_file"
   ]
  },
  {
   "cell_type": "code",
   "execution_count": 25,
   "id": "ec42beb1",
   "metadata": {},
   "outputs": [],
   "source": [
    "subject = '03'\n",
    "run = '07'\n",
    "stage = 'raw'"
   ]
  },
  {
   "cell_type": "code",
   "execution_count": 26,
   "id": "9d83f50e",
   "metadata": {},
   "outputs": [],
   "source": [
    "_, path = get_bids_file(BIDS_PATH, subj=subject, run=run, stage=stage)"
   ]
  },
  {
   "cell_type": "code",
   "execution_count": 27,
   "id": "a17b0760",
   "metadata": {},
   "outputs": [
    {
     "data": {
      "text/plain": [
       "'/run/media/clara_elk/Clara_Seagate/SoLaugh_MSc/bids_data/sub-03/ses-recording/meg/sub-03_ses-recording_task-LaughterActive_run-07_meg.ds'"
      ]
     },
     "execution_count": 27,
     "metadata": {},
     "output_type": "execute_result"
    }
   ],
   "source": [
    "path"
   ]
  },
  {
   "cell_type": "code",
   "execution_count": 28,
   "id": "0d42f51a",
   "metadata": {},
   "outputs": [
    {
     "name": "stdout",
     "output_type": "stream",
     "text": [
      "ds directory : /run/media/clara_elk/Clara_Seagate/SoLaugh_MSc/bids_data/sub-03/ses-recording/meg/sub-03_ses-recording_task-LaughterActive_run-07_meg.ds\n",
      "    res4 data read.\n",
      "    hc data read.\n",
      "    Separate EEG position data file read.\n",
      "    Quaternion matching (desired vs. transformed):\n",
      "      -0.84   67.20    0.00 mm <->   -0.84   67.20    0.00 mm (orig :  -53.28   45.02 -247.62 mm) diff =    0.000 mm\n",
      "       0.84  -67.20    0.00 mm <->    0.84  -67.20    0.00 mm (orig :   40.42  -51.36 -248.04 mm) diff =    0.000 mm\n",
      "      89.70    0.00    0.00 mm <->   89.70    0.00    0.00 mm (orig :   58.66   58.55 -247.08 mm) diff =    0.000 mm\n",
      "    Coordinate transformations established.\n",
      "    Reading digitizer points from ['/run/media/clara_elk/Clara_Seagate/SoLaugh_MSc/bids_data/sub-03/ses-recording/meg/sub-03_ses-recording_task-LaughterActive_run-07_meg.ds/CA03_Laughter-kjerbi_20161013_HEADSHAPE.pos']...\n",
      "    Polhemus data for 3 HPI coils added\n",
      "    Device coordinate locations for 3 HPI coils added\n",
      "    Measurement info composed.\n",
      "Finding samples for /run/media/clara_elk/Clara_Seagate/SoLaugh_MSc/bids_data/sub-03/ses-recording/meg/sub-03_ses-recording_task-LaughterActive_run-07_meg.ds/sub-03_ses-recording_task-LaughterActive_run-07_meg.meg4: \n",
      "    System clock channel is available, checking which samples are valid.\n",
      "    1 x 300000 = 300000 samples from 334 chs\n",
      "Current compensation grade : 3\n"
     ]
    }
   ],
   "source": [
    "raw = mne.io.read_raw_ctf(path)"
   ]
  },
  {
   "cell_type": "code",
   "execution_count": 29,
   "id": "27c9e344",
   "metadata": {
    "scrolled": false
   },
   "outputs": [
    {
     "data": {
      "text/html": [
       "<table class=\"table table-hover table-striped table-sm table-responsive small\">\n",
       "    <tr>\n",
       "        <th>Measurement date</th>\n",
       "        \n",
       "        <td>October 13, 2016  21:20:00 GMT</td>\n",
       "        \n",
       "    </tr>\n",
       "    <tr>\n",
       "        <th>Experimenter</th>\n",
       "        \n",
       "        <td>Ping</td>\n",
       "        \n",
       "    </tr>\n",
       "        <th>Participant</th>\n",
       "        \n",
       "            \n",
       "            <td>CA03</td>\n",
       "            \n",
       "        \n",
       "    </tr>\n",
       "    <tr>\n",
       "        <th>Digitized points</th>\n",
       "        \n",
       "        <td>1974 points</td>\n",
       "        \n",
       "    </tr>\n",
       "    <tr>\n",
       "        <th>Good channels</th>\n",
       "        <td>1 Stimulus, 31 misc, 29 Reference Magnetometers, 270 Magnetometers, 3 EEG</td>\n",
       "    </tr>\n",
       "    <tr>\n",
       "        <th>Bad channels</th>\n",
       "        <td>None</td>\n",
       "    </tr>\n",
       "    <tr>\n",
       "        <th>EOG channels</th>\n",
       "        <td>Not available</td>\n",
       "    </tr>\n",
       "    <tr>\n",
       "        <th>ECG channels</th>\n",
       "        <td>Not available</td>\n",
       "    \n",
       "    <tr>\n",
       "        <th>Sampling frequency</th>\n",
       "        <td>1200.00 Hz</td>\n",
       "    </tr>\n",
       "    \n",
       "    \n",
       "    <tr>\n",
       "        <th>Highpass</th>\n",
       "        <td>0.00 Hz</td>\n",
       "    </tr>\n",
       "    \n",
       "    \n",
       "    <tr>\n",
       "        <th>Lowpass</th>\n",
       "        <td>600.00 Hz</td>\n",
       "    </tr>\n",
       "    \n",
       "    \n",
       "</table>"
      ],
      "text/plain": [
       "<Info | 16 non-empty values\n",
       " bads: []\n",
       " ch_names: UPPT001, SCLK01-177, BG1-3105, BG2-3105, BG3-3105, BP1-3105, ...\n",
       " chs: 1 Stimulus, 31 misc, 29 Reference Magnetometers, 270 Magnetometers, 3 EEG\n",
       " comps: 5 items (list)\n",
       " ctf_head_t: CTF/4D/KIT head -> head transform\n",
       " custom_ref_applied: False\n",
       " dev_ctf_t: MEG device -> CTF/4D/KIT head transform\n",
       " dev_head_t: MEG device -> head transform\n",
       " dig: 1974 items (3 Cardinal, 1971 Extra)\n",
       " experimenter: Ping\n",
       " highpass: 0.0 Hz\n",
       " hpi_results: 1 item (list)\n",
       " lowpass: 600.0 Hz\n",
       " meas_date: 2016-10-13 21:20:00 UTC\n",
       " meas_id: 4 items (dict)\n",
       " nchan: 334\n",
       " projs: []\n",
       " sfreq: 1200.0 Hz\n",
       " subject_info: 1 item (dict)\n",
       ">"
      ]
     },
     "execution_count": 29,
     "metadata": {},
     "output_type": "execute_result"
    }
   ],
   "source": [
    "raw.info"
   ]
  },
  {
   "cell_type": "code",
   "execution_count": 30,
   "id": "c4be9bc9",
   "metadata": {},
   "outputs": [
    {
     "name": "stdout",
     "output_type": "stream",
     "text": [
      "Applying low-pass filter with 40.0 Hz cutoff frequency ...\n",
      "Reading 0 ... 299999  =      0.000 ...   249.999 secs...\n",
      "Filtering raw data in 1 contiguous segment\n",
      "Setting up low-pass filter at 40 Hz\n",
      "\n",
      "FIR filter parameters\n",
      "---------------------\n",
      "Designing a one-pass, zero-phase, non-causal lowpass filter:\n",
      "- Windowed time-domain design (firwin) method\n",
      "- Hamming window with 0.0194 passband ripple and 53 dB stopband attenuation\n",
      "- Upper passband edge: 40.00 Hz\n",
      "- Upper transition bandwidth: 10.00 Hz (-6 dB cutoff frequency: 45.00 Hz)\n",
      "- Filter length: 397 samples (0.331 sec)\n",
      "\n"
     ]
    },
    {
     "name": "stderr",
     "output_type": "stream",
     "text": [
      "[Parallel(n_jobs=1)]: Using backend SequentialBackend with 1 concurrent workers.\n",
      "[Parallel(n_jobs=1)]: Done   1 out of   1 | elapsed:    0.0s remaining:    0.0s\n",
      "[Parallel(n_jobs=1)]: Done   2 out of   2 | elapsed:    0.0s remaining:    0.0s\n",
      "[Parallel(n_jobs=1)]: Done   3 out of   3 | elapsed:    0.0s remaining:    0.0s\n",
      "[Parallel(n_jobs=1)]: Done   4 out of   4 | elapsed:    0.0s remaining:    0.0s\n"
     ]
    },
    {
     "name": "stdout",
     "output_type": "stream",
     "text": [
      "Scanning for bad channels in 50 intervals (5.0 sec) ...\n"
     ]
    },
    {
     "name": "stderr",
     "output_type": "stream",
     "text": [
      "[Parallel(n_jobs=1)]: Done 302 out of 302 | elapsed:    2.5s finished\n"
     ]
    },
    {
     "ename": "RuntimeError",
     "evalue": "Maxwell filter cannot be done on compensated channels, but data have been compensated with grade 3.",
     "output_type": "error",
     "traceback": [
      "\u001b[0;31m---------------------------------------------------------------------------\u001b[0m",
      "\u001b[0;31mRuntimeError\u001b[0m                              Traceback (most recent call last)",
      "Cell \u001b[0;32mIn[30], line 1\u001b[0m\n\u001b[0;32m----> 1\u001b[0m \u001b[43mmne\u001b[49m\u001b[38;5;241;43m.\u001b[39;49m\u001b[43mpreprocessing\u001b[49m\u001b[38;5;241;43m.\u001b[39;49m\u001b[43mfind_bad_channels_maxwell\u001b[49m\u001b[43m(\u001b[49m\u001b[43mraw\u001b[49m\u001b[43m)\u001b[49m\n",
      "File \u001b[0;32m<decorator-gen-462>:12\u001b[0m, in \u001b[0;36mfind_bad_channels_maxwell\u001b[0;34m(raw, limit, duration, min_count, return_scores, origin, int_order, ext_order, calibration, cross_talk, coord_frame, regularize, ignore_ref, bad_condition, head_pos, mag_scale, skip_by_annotation, h_freq, extended_proj, verbose)\u001b[0m\n",
      "File \u001b[0;32m~/miniconda3/envs/mne/lib/python3.10/site-packages/mne/preprocessing/maxwell.py:2237\u001b[0m, in \u001b[0;36mfind_bad_channels_maxwell\u001b[0;34m(***failed resolving arguments***)\u001b[0m\n\u001b[1;32m   2234\u001b[0m min_count \u001b[38;5;241m=\u001b[39m \u001b[38;5;28mmin\u001b[39m(_ensure_int(min_count, \u001b[38;5;124m'\u001b[39m\u001b[38;5;124mmin_count\u001b[39m\u001b[38;5;124m'\u001b[39m), \u001b[38;5;28mlen\u001b[39m(starts))\n\u001b[1;32m   2235\u001b[0m logger\u001b[38;5;241m.\u001b[39minfo(\u001b[38;5;124m'\u001b[39m\u001b[38;5;124mScanning for bad channels in \u001b[39m\u001b[38;5;132;01m%d\u001b[39;00m\u001b[38;5;124m interval\u001b[39m\u001b[38;5;132;01m%s\u001b[39;00m\u001b[38;5;124m (\u001b[39m\u001b[38;5;132;01m%0.1f\u001b[39;00m\u001b[38;5;124m sec) ...\u001b[39m\u001b[38;5;124m'\u001b[39m\n\u001b[1;32m   2236\u001b[0m             \u001b[38;5;241m%\u001b[39m (\u001b[38;5;28mlen\u001b[39m(starts), _pl(starts), step \u001b[38;5;241m/\u001b[39m raw\u001b[38;5;241m.\u001b[39minfo[\u001b[38;5;124m'\u001b[39m\u001b[38;5;124msfreq\u001b[39m\u001b[38;5;124m'\u001b[39m]))\n\u001b[0;32m-> 2237\u001b[0m params \u001b[38;5;241m=\u001b[39m \u001b[43m_prep_maxwell_filter\u001b[49m\u001b[43m(\u001b[49m\n\u001b[1;32m   2238\u001b[0m \u001b[43m    \u001b[49m\u001b[43mraw\u001b[49m\u001b[43m,\u001b[49m\u001b[43m \u001b[49m\u001b[43mskip_by_annotation\u001b[49m\u001b[38;5;241;43m=\u001b[39;49m\u001b[43m[\u001b[49m\u001b[43m]\u001b[49m\u001b[43m,\u001b[49m\u001b[43m  \u001b[49m\u001b[38;5;66;43;03m# already accounted for\u001b[39;49;00m\n\u001b[1;32m   2239\u001b[0m \u001b[43m    \u001b[49m\u001b[43morigin\u001b[49m\u001b[38;5;241;43m=\u001b[39;49m\u001b[43morigin\u001b[49m\u001b[43m,\u001b[49m\u001b[43m \u001b[49m\u001b[43mint_order\u001b[49m\u001b[38;5;241;43m=\u001b[39;49m\u001b[43mint_order\u001b[49m\u001b[43m,\u001b[49m\u001b[43m \u001b[49m\u001b[43mext_order\u001b[49m\u001b[38;5;241;43m=\u001b[39;49m\u001b[43mext_order\u001b[49m\u001b[43m,\u001b[49m\n\u001b[1;32m   2240\u001b[0m \u001b[43m    \u001b[49m\u001b[43mcalibration\u001b[49m\u001b[38;5;241;43m=\u001b[39;49m\u001b[43mcalibration\u001b[49m\u001b[43m,\u001b[49m\u001b[43m \u001b[49m\u001b[43mcross_talk\u001b[49m\u001b[38;5;241;43m=\u001b[39;49m\u001b[43mcross_talk\u001b[49m\u001b[43m,\u001b[49m\n\u001b[1;32m   2241\u001b[0m \u001b[43m    \u001b[49m\u001b[43mcoord_frame\u001b[49m\u001b[38;5;241;43m=\u001b[39;49m\u001b[43mcoord_frame\u001b[49m\u001b[43m,\u001b[49m\u001b[43m \u001b[49m\u001b[43mregularize\u001b[49m\u001b[38;5;241;43m=\u001b[39;49m\u001b[43mregularize\u001b[49m\u001b[43m,\u001b[49m\n\u001b[1;32m   2242\u001b[0m \u001b[43m    \u001b[49m\u001b[43mignore_ref\u001b[49m\u001b[38;5;241;43m=\u001b[39;49m\u001b[43mignore_ref\u001b[49m\u001b[43m,\u001b[49m\u001b[43m \u001b[49m\u001b[43mbad_condition\u001b[49m\u001b[38;5;241;43m=\u001b[39;49m\u001b[43mbad_condition\u001b[49m\u001b[43m,\u001b[49m\u001b[43m \u001b[49m\u001b[43mhead_pos\u001b[49m\u001b[38;5;241;43m=\u001b[39;49m\u001b[43mhead_pos\u001b[49m\u001b[43m,\u001b[49m\n\u001b[1;32m   2243\u001b[0m \u001b[43m    \u001b[49m\u001b[43mmag_scale\u001b[49m\u001b[38;5;241;43m=\u001b[39;49m\u001b[43mmag_scale\u001b[49m\u001b[43m,\u001b[49m\u001b[43m \u001b[49m\u001b[43mextended_proj\u001b[49m\u001b[38;5;241;43m=\u001b[39;49m\u001b[43mextended_proj\u001b[49m\u001b[43m)\u001b[49m\n\u001b[1;32m   2244\u001b[0m \u001b[38;5;28;01mdel\u001b[39;00m origin, int_order, ext_order, calibration, cross_talk, coord_frame\n\u001b[1;32m   2245\u001b[0m \u001b[38;5;28;01mdel\u001b[39;00m regularize, ignore_ref, bad_condition, head_pos, mag_scale\n",
      "File \u001b[0;32m<decorator-gen-458>:12\u001b[0m, in \u001b[0;36m_prep_maxwell_filter\u001b[0;34m(raw, origin, int_order, ext_order, calibration, cross_talk, st_duration, st_correlation, coord_frame, destination, regularize, ignore_ref, bad_condition, head_pos, st_fixed, st_only, mag_scale, skip_by_annotation, extended_proj, reconstruct, verbose)\u001b[0m\n",
      "File \u001b[0;32m~/miniconda3/envs/mne/lib/python3.10/site-packages/mne/preprocessing/maxwell.py:379\u001b[0m, in \u001b[0;36m_prep_maxwell_filter\u001b[0;34m(raw, origin, int_order, ext_order, calibration, cross_talk, st_duration, st_correlation, coord_frame, destination, regularize, ignore_ref, bad_condition, head_pos, st_fixed, st_only, mag_scale, skip_by_annotation, extended_proj, reconstruct, verbose)\u001b[0m\n\u001b[1;32m    360\u001b[0m \u001b[38;5;129m@verbose\u001b[39m\n\u001b[1;32m    361\u001b[0m \u001b[38;5;28;01mdef\u001b[39;00m \u001b[38;5;21m_prep_maxwell_filter\u001b[39m(\n\u001b[1;32m    362\u001b[0m         raw, origin\u001b[38;5;241m=\u001b[39m\u001b[38;5;124m'\u001b[39m\u001b[38;5;124mauto\u001b[39m\u001b[38;5;124m'\u001b[39m, int_order\u001b[38;5;241m=\u001b[39m\u001b[38;5;241m8\u001b[39m, ext_order\u001b[38;5;241m=\u001b[39m\u001b[38;5;241m3\u001b[39m,\n\u001b[0;32m   (...)\u001b[0m\n\u001b[1;32m    376\u001b[0m \n\u001b[1;32m    377\u001b[0m     \u001b[38;5;66;03m# triage inputs ASAP to avoid late-thrown errors\u001b[39;00m\n\u001b[1;32m    378\u001b[0m     _validate_type(raw, BaseRaw, \u001b[38;5;124m'\u001b[39m\u001b[38;5;124mraw\u001b[39m\u001b[38;5;124m'\u001b[39m)\n\u001b[0;32m--> 379\u001b[0m     \u001b[43m_check_usable\u001b[49m\u001b[43m(\u001b[49m\u001b[43mraw\u001b[49m\u001b[43m)\u001b[49m\n\u001b[1;32m    380\u001b[0m     _check_regularize(regularize)\n\u001b[1;32m    381\u001b[0m     st_correlation \u001b[38;5;241m=\u001b[39m \u001b[38;5;28mfloat\u001b[39m(st_correlation)\n",
      "File \u001b[0;32m~/miniconda3/envs/mne/lib/python3.10/site-packages/mne/preprocessing/maxwell.py:1153\u001b[0m, in \u001b[0;36m_check_usable\u001b[0;34m(inst)\u001b[0m\n\u001b[1;32m   1151\u001b[0m current_comp \u001b[38;5;241m=\u001b[39m inst\u001b[38;5;241m.\u001b[39mcompensation_grade\n\u001b[1;32m   1152\u001b[0m \u001b[38;5;28;01mif\u001b[39;00m current_comp \u001b[38;5;129;01mnot\u001b[39;00m \u001b[38;5;129;01min\u001b[39;00m (\u001b[38;5;241m0\u001b[39m, \u001b[38;5;28;01mNone\u001b[39;00m):\n\u001b[0;32m-> 1153\u001b[0m     \u001b[38;5;28;01mraise\u001b[39;00m \u001b[38;5;167;01mRuntimeError\u001b[39;00m(\u001b[38;5;124m'\u001b[39m\u001b[38;5;124mMaxwell filter cannot be done on compensated \u001b[39m\u001b[38;5;124m'\u001b[39m\n\u001b[1;32m   1154\u001b[0m                        \u001b[38;5;124m'\u001b[39m\u001b[38;5;124mchannels, but data have been compensated with \u001b[39m\u001b[38;5;124m'\u001b[39m\n\u001b[1;32m   1155\u001b[0m                        \u001b[38;5;124m'\u001b[39m\u001b[38;5;124mgrade \u001b[39m\u001b[38;5;132;01m%s\u001b[39;00m\u001b[38;5;124m.\u001b[39m\u001b[38;5;124m'\u001b[39m \u001b[38;5;241m%\u001b[39m current_comp)\n",
      "\u001b[0;31mRuntimeError\u001b[0m: Maxwell filter cannot be done on compensated channels, but data have been compensated with grade 3."
     ]
    }
   ],
   "source": [
    "mne.preprocessing.find_bad_channels_maxwell(raw)"
   ]
  },
  {
   "cell_type": "code",
   "execution_count": 13,
   "id": "2ab8751c",
   "metadata": {},
   "outputs": [],
   "source": [
    "event_id = {'LaughReal' : 11, 'LaughPosed' : 12, 'Good' : 99, 'Bad' : 66}"
   ]
  },
  {
   "cell_type": "code",
   "execution_count": 18,
   "id": "614a05b4",
   "metadata": {
    "scrolled": true
   },
   "outputs": [
    {
     "name": "stdout",
     "output_type": "stream",
     "text": [
      "Trigger channel has a non-zero initial value of 68 (consider using initial_event=True to detect this event)\n",
      "Removing orphaned offset at the beginning of the file.\n",
      "75 events found\n",
      "Event IDs: [ 5 11 12 66 99]\n"
     ]
    }
   ],
   "source": [
    "events = mne.find_events(raw, initial_event=False)"
   ]
  },
  {
   "cell_type": "code",
   "execution_count": 22,
   "id": "d09519f0",
   "metadata": {},
   "outputs": [
    {
     "name": "stdout",
     "output_type": "stream",
     "text": [
      "Not setting metadata\n",
      "50 matching events found\n",
      "Setting baseline interval to [-0.2, 0.0] sec\n",
      "Applying baseline correction (mode: mean)\n",
      "0 projection items activated\n"
     ]
    },
    {
     "data": {
      "text/html": [
       "<table class=\"table table-hover table-striped table-sm table-responsive small\">\n",
       "    <tr>\n",
       "        <th>Number of events</th>\n",
       "        <td>50</td>\n",
       "    </tr>\n",
       "    <tr>\n",
       "        <th>Events</th>\n",
       "        \n",
       "        <td>Bad: 4<br/>Good: 21<br/>LaughPosed: 10<br/>LaughReal: 15</td>\n",
       "        \n",
       "    </tr>\n",
       "    <tr>\n",
       "        <th>Time range</th>\n",
       "        <td>-0.200 – 1.500 sec</td>\n",
       "    </tr>\n",
       "    <tr>\n",
       "        <th>Baseline</th>\n",
       "        <td>-0.200 – 0.000 sec</td>\n",
       "    </tr>\n",
       "</table>"
      ],
      "text/plain": [
       "<Epochs |  50 events (good & bad), -0.2 - 1.5 sec, baseline -0.2 – 0 sec, ~1.3 MB, data not loaded,\n",
       " 'LaughReal': 15\n",
       " 'LaughPosed': 10\n",
       " 'Good': 21\n",
       " 'Bad': 4>"
      ]
     },
     "execution_count": 22,
     "metadata": {},
     "output_type": "execute_result"
    }
   ],
   "source": [
    "mne.Epochs(raw, events, event_id=event_id, tmin=-0.2, tmax=1.5)"
   ]
  },
  {
   "cell_type": "code",
   "execution_count": 23,
   "id": "476f27ff",
   "metadata": {},
   "outputs": [
    {
     "name": "stderr",
     "output_type": "stream",
     "text": [
      "/tmp/ipykernel_6810/1056405165.py:1: RuntimeWarning: event 5 missing from event_id will be ignored\n",
      "  fig = mne.viz.plot_events(events, event_id=event_id, sfreq=raw.info['sfreq'],\n"
     ]
    },
    {
     "data": {
      "image/png": "[encoded data removed]",
      "text/plain": [
       "<Figure size 640x480 with 1 Axes>"
      ]
     },
     "metadata": {},
     "output_type": "display_data"
    }
   ],
   "source": [
    "fig = mne.viz.plot_events(events, event_id=event_id, sfreq=raw.info['sfreq'],\n",
    "                          first_samp=raw.first_samp)"
   ]
  },
  {
   "cell_type": "code",
   "execution_count": null,
   "id": "43a068cb",
   "metadata": {},
   "outputs": [],
   "source": []
  },
  {
   "cell_type": "code",
   "execution_count": 1,
   "id": "8f62177c",
   "metadata": {},
   "outputs": [],
   "source": [
    "import mne\n",
    "import os\n",
    "import scipy.stats\n",
    "import matplotlib.pyplot as plt\n",
    "import numpy as np\n",
    "import pickle\n",
    "from src.utils import get_bids_file, compute_ch_adjacency\n",
    "from src.params import BIDS_PATH, PREPROC_PATH, SUBJ_LIST, ACTIVE_RUN, RESULT_PATH\n",
    "from mne.stats import spatio_temporal_cluster_test, combine_adjacency"
   ]
  },
  {
   "cell_type": "code",
   "execution_count": 2,
   "id": "857ef923",
   "metadata": {},
   "outputs": [],
   "source": [
    "# Will be moved in another file later\n",
    "def ERP(PREPROC_PATH, subj_list, cond1, cond2, stage) :\n",
    "    \n",
    "    epochs_concat = []\n",
    "    epochs_all_list = []\n",
    "\n",
    "    for subj in subj_list :\n",
    "        _, epochs_file = get_bids_file(PREPROC_PATH, stage = stage, subj = subj)\n",
    "        epochs = mne.read_epochs(epochs_file)\n",
    "        epochs = mne.Epochs.apply_baseline(epochs,baseline=(None,0))\n",
    "        \n",
    "        # Average each condition\n",
    "        condition1 = epochs[cond1].average()\n",
    "        condition2 = epochs[cond2].average()\n",
    "        \n",
    "        # Set manually head mouvement \n",
    "        if subj == subj_list[0]:\n",
    "            head_info = epochs.info['dev_head_t']\n",
    "        else:\n",
    "            epochs.info['dev_head_t'] = head_info\n",
    "        \n",
    "        epochs_concat = mne.concatenate_epochs([epochs])\n",
    "        epochs_all_list.append(epochs_concat)\n",
    "        print('processing -->', subj)\n",
    "\n",
    "    epochs_save_file = mne.concatenate_epochs(epochs_all_list)\n",
    "\n",
    "    conditions = {cond1 : condition1, cond2: condition2}\n",
    "\n",
    "    # Save average condition into pkl file\n",
    "    for one_condition in conditions :\n",
    "        _, save_erp = get_bids_file(RESULT_PATH, stage = \"erp\", condition=one_condition)\n",
    "        with open(save_erp, 'wb') as f:\n",
    "            pickle.dump(conditions.get(one_condition), f)\n",
    "    \n",
    "    # Save concat condition into pkl file\n",
    "    conditions = cond1 + \"-\" + cond2\n",
    "    _, save_erp_concat = get_bids_file(RESULT_PATH, stage = \"erp-concat\", condition=conditions)\n",
    "    \n",
    "    with open(save_erp_concat, 'wb') as f:\n",
    "        pickle.dump(epochs_save_file, f)    \n",
    "\n",
    "    return condition1, condition2, epochs_concat"
   ]
  },
  {
   "cell_type": "code",
   "execution_count": 3,
   "id": "d40b0cc2",
   "metadata": {},
   "outputs": [],
   "source": [
    "def cluster_ERP(epochs, event_id, cond1, cond2) :\n",
    "\n",
    "    # Code adapted from :\n",
    "    # https://mne.tools/stable/auto_tutorials/stats-sensor-space/75_cluster_ftest_spatiotemporal.html\n",
    "\n",
    "    # Drop EEg channels and equalize event number\n",
    "    epochs.equalize_event_counts(event_id)\n",
    "    epochs.pick_types(meg=True, ref_meg = False,  exclude='bads')\n",
    "\n",
    "    # Compute adjacency\n",
    "    adjacency, ch_names = compute_ch_adjacency(epochs.info, ch_type='mag')\n",
    "\n",
    "    print(adjacency.shape)\n",
    "    # Obtain the data as a 3D matrix and transpose it such that\n",
    "    # the dimensions are as expected for the cluster permutation test:\n",
    "    # n_epochs × n_times × n_channels\n",
    "    X = [epochs[event_name].get_data() for event_name in event_id]\n",
    "    print([x.shape for x in X])\n",
    "    X = [np.transpose(x, (0, 2, 1)) for x in X]\n",
    "    print([x.shape for x in X])\n",
    "\n",
    "    # We are running an F test, so we look at the upper tail\n",
    "    tail = 1\n",
    "    alpha_cluster_forming = 0.01\n",
    "\n",
    "    # For an F test we need the degrees of freedom for the numerator\n",
    "    # (number of conditions - 1) and the denominator (number of observations\n",
    "    # - number of conditions):\n",
    "    n_conditions = len(event_id)\n",
    "    n_observations = len(X[0])\n",
    "    dfn = n_conditions - 1\n",
    "    dfd = n_observations - n_conditions\n",
    "\n",
    "    # Note: we calculate 1 - alpha_cluster_forming to get the critical value\n",
    "    # on the right tail\n",
    "    f_thresh = scipy.stats.f.ppf(1 - alpha_cluster_forming, dfn=dfn, dfd=dfd)\n",
    "\n",
    "    # run the cluster based permutation analysis\n",
    "    cluster_stats = spatio_temporal_cluster_test(X, n_permutations=100,\n",
    "                                                threshold=f_thresh, tail=tail,\n",
    "                                                n_jobs=None, buffer_size=None,\n",
    "                                                adjacency=adjacency)\n",
    "    F_obs, clusters, p_values, _ = cluster_stats\n",
    "\n",
    "    # Save cluster stats to use it later\n",
    "    conditions = cond1 + \"-\" + cond2\n",
    "    _, save_cluster_stats = get_bids_file(RESULT_PATH, stage = \"erp-clusters\", measure=\"cluster-stats\", condition = conditions)\n",
    "    \n",
    "    with open(save_cluster_stats, 'wb') as f:\n",
    "        pickle.dump(cluster_stats, f)  \n",
    "\n",
    "    return F_obs, clusters, p_values"
   ]
  },
  {
   "cell_type": "code",
   "execution_count": 4,
   "id": "97b4f512",
   "metadata": {},
   "outputs": [
    {
     "name": "stdout",
     "output_type": "stream",
     "text": [
      "Reading /run/media/clara_elk/Clara_Seagate/SoLaugh_MSc/preproc/sub-01/ses-recording/meg/sub-01_ses-recording_task-LaughterActive_proc-clean_epo.fif ...\n",
      "    Read 5 compensation matrices\n",
      "    Found the data of interest:\n",
      "        t =    -500.00 ...    1500.00 ms\n",
      "        5 CTF compensation matrices available\n",
      "Adding metadata with 7 columns\n",
      "299 matching events found\n",
      "No baseline correction applied\n",
      "0 projection items activated\n",
      "Applying baseline correction (mode: mean)\n",
      "Adding metadata with 7 columns\n",
      "299 matching events found\n",
      "Applying baseline correction (mode: mean)\n",
      "processing --> 01\n",
      "Adding metadata with 7 columns\n",
      "299 matching events found\n",
      "Applying baseline correction (mode: mean)\n"
     ]
    }
   ],
   "source": [
    "# Select subjects and runs and stage\n",
    "subj_list = [\"01\"]\n",
    "stage = \"epo\"\n",
    "\n",
    "# Select what conditions to compute (str)\n",
    "cond1 = \"LaughReal\"\n",
    "cond2 = \"LaughPosed\"\n",
    "picks = \"meg\" # Select MEG channels\n",
    "event_id = {'LaughReal' : 11, 'LaughPosed' : 12}\n",
    "\n",
    "# Compute ERPs\n",
    "condition1, condition2, epochs_concat = ERP(PREPROC_PATH, subj_list, cond1, cond2, \"proc-clean_epo\")"
   ]
  },
  {
   "cell_type": "code",
   "execution_count": 5,
   "id": "951a53ba",
   "metadata": {},
   "outputs": [
    {
     "name": "stdout",
     "output_type": "stream",
     "text": [
      "Dropped 0 epochs: \n",
      "Removing 5 compensators from info because not all compensation channels were picked.\n",
      "-- number of adjacent vertices : 270\n",
      "(270, 270)\n",
      "[(75, 270, 2401), (75, 270, 2401)]\n",
      "[(75, 2401, 270), (75, 2401, 270)]\n",
      "stat_fun(H1): min=0.000000 max=25.318166\n",
      "Running initial clustering …\n",
      "Found 446 clusters\n"
     ]
    },
    {
     "data": {
      "application/vnd.jupyter.widget-view+json": {
       "model_id": "1b127ddbc3604d0fb44bd63306c704d8",
       "version_major": 2,
       "version_minor": 0
      },
      "text/plain": [
       "  0%|          | Permuting : 0/99 [00:00<?,       ?it/s]"
      ]
     },
     "metadata": {},
     "output_type": "display_data"
    }
   ],
   "source": [
    "# Compute ERP clusters\n",
    "F_obs, clusters, p_values = cluster_ERP(epochs_concat, event_id, cond1, cond2)"
   ]
  },
  {
   "cell_type": "code",
   "execution_count": null,
   "id": "e1872729",
   "metadata": {},
   "outputs": [],
   "source": []
  }
 ],
 "metadata": {
  "kernelspec": {
   "display_name": "Python 3 (ipykernel)",
   "language": "python",
   "name": "python3"
  },
  "language_info": {
   "codemirror_mode": {
    "name": "ipython",
    "version": 3
   },
   "file_extension": ".py",
   "mimetype": "text/x-python",
   "name": "python",
   "nbconvert_exporter": "python",
   "pygments_lexer": "ipython3",
   "version": "3.10.8"
  }
 },
 "nbformat": 4,
 "nbformat_minor": 5
}
