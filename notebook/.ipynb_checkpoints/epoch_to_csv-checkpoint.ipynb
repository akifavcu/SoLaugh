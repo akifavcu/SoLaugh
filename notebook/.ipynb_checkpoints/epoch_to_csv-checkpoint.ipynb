{
 "cells": [
  {
   "cell_type": "code",
   "execution_count": 2,
   "id": "fbb22eec",
   "metadata": {},
   "outputs": [],
   "source": [
    "import mne\n",
    "import os\n",
    "import pandas as pd\n",
    "import numpy as np\n",
    "from src.params import RESULT_PATH, FIG_PATH, SUBJ_CLEAN, BIDS_PATH, ACTIVE_RUN\n",
    "from src.utils import get_bids_file"
   ]
  },
  {
   "cell_type": "code",
   "execution_count": 4,
   "id": "76f7875a",
   "metadata": {},
   "outputs": [],
   "source": [
    "subj_list = SUBJ_CLEAN\n",
    "cond1 = 'LaughReal'\n",
    "cond2 = 'LaughPosed'\n",
    "task = 'LaughterActive'\n",
    "save = False"
   ]
  },
  {
   "cell_type": "code",
   "execution_count": 5,
   "id": "74788889",
   "metadata": {},
   "outputs": [
    {
     "name": "stdout",
     "output_type": "stream",
     "text": [
      "Condition LaughReal\n",
      "Reading /home/claraelk/scratch/laughter_data/preproc_erp/sub-01/ses-recording/meg/sub-01_ses-recording_task-LaughterActive_proc-clean_epo.fif ...\n",
      "    Read 5 compensation matrices\n",
      "    Found the data of interest:\n",
      "        t =    -100.00 ...    1500.00 ms\n",
      "        5 CTF compensation matrices available\n",
      "Adding metadata with 7 columns\n",
      "299 matching events found\n",
      "No baseline correction applied\n",
      "0 projection items activated\n",
      "(302, 1921)\n",
      "270\n",
      "270\n",
      "270\n",
      "270\n",
      "Condition LaughPosed\n",
      "Reading /home/claraelk/scratch/laughter_data/preproc_erp/sub-01/ses-recording/meg/sub-01_ses-recording_task-LaughterActive_proc-clean_epo.fif ...\n",
      "    Read 5 compensation matrices\n",
      "    Found the data of interest:\n",
      "        t =    -100.00 ...    1500.00 ms\n",
      "        5 CTF compensation matrices available\n",
      "Adding metadata with 7 columns\n",
      "299 matching events found\n",
      "No baseline correction applied\n",
      "0 projection items activated\n",
      "(302, 1921)\n",
      "540\n",
      "540\n",
      "540\n",
      "540\n",
      "Create csv file\n",
      "  subjectID channel_names  condition          -0.1  -0.09916666666666667  \\\n",
      "0        01       UPPT001  LaughReal  3.989915e-14          3.432609e-14   \n",
      "1        01    SCLK01-177  LaughReal -3.286242e-14         -4.034214e-14   \n",
      "2        01      BG1-3105  LaughReal -9.396034e-14         -9.789302e-14   \n",
      "3        01      BG2-3105  LaughReal  1.311561e-13          1.163646e-13   \n",
      "4        01      BG3-3105  LaughReal  8.949620e-15          4.666474e-16   \n",
      "\n",
      "   -0.09833333333333333       -0.0975  -0.09666666666666666  \\\n",
      "0          2.760483e-14  1.992631e-14          1.151081e-14   \n",
      "1         -4.681642e-14 -5.211321e-14         -5.610760e-14   \n",
      "2         -1.024692e-13 -1.075507e-13         -1.129997e-13   \n",
      "3          9.963474e-14  8.131102e-14          6.178336e-14   \n",
      "4         -7.570323e-15 -1.493416e-14         -2.141399e-14   \n",
      "\n",
      "   -0.09583333333333334        -0.095  ...        1.4925  1.4933333333333334  \\\n",
      "0          2.593479e-15 -6.584533e-15  ...  2.151858e-12        2.143511e-12   \n",
      "1         -5.871225e-14 -5.987505e-14  ...  4.137943e-12        4.123731e-12   \n",
      "2         -1.186724e-13 -1.244064e-13  ... -2.091496e-12       -2.091556e-12   \n",
      "3          4.147567e-14  2.081767e-14  ...  2.153973e-12        2.155744e-12   \n",
      "4         -2.684128e-14 -3.109013e-14  ...  4.102574e-12        4.093802e-12   \n",
      "\n",
      "   1.4941666666666666         1.495  1.4958333333333333  1.4966666666666666  \\\n",
      "0        2.135388e-12  2.127670e-12        2.120531e-12        2.114123e-12   \n",
      "1        4.109075e-12  4.094189e-12        4.079289e-12        4.064581e-12   \n",
      "2       -2.091977e-12 -2.092841e-12       -2.094203e-12       -2.096107e-12   \n",
      "3        2.155976e-12  2.154787e-12        2.152324e-12        2.148765e-12   \n",
      "4        4.084513e-12  4.074855e-12        4.064979e-12        4.055033e-12   \n",
      "\n",
      "         1.4975  1.4983333333333333  1.4991666666666668           1.5  \n",
      "0  2.108583e-12        2.104033e-12        2.100572e-12  2.098272e-12  \n",
      "1  4.050256e-12        4.036496e-12        4.023464e-12  4.011307e-12  \n",
      "2 -2.098587e-12       -2.101668e-12       -2.105341e-12 -2.109576e-12  \n",
      "3  2.144312e-12        2.139167e-12        2.133538e-12  2.127660e-12  \n",
      "4  4.045159e-12        4.035498e-12        4.026189e-12  4.017360e-12  \n",
      "\n",
      "[5 rows x 1924 columns]\n",
      "Condition LaughReal\n",
      "Reading /home/claraelk/scratch/laughter_data/preproc_erp/sub-02/ses-recording/meg/sub-02_ses-recording_task-LaughterActive_proc-clean_epo.fif ...\n",
      "    Read 5 compensation matrices\n",
      "    Found the data of interest:\n",
      "        t =    -100.00 ...    1500.00 ms\n",
      "        5 CTF compensation matrices available\n",
      "Adding metadata with 7 columns\n",
      "299 matching events found\n",
      "No baseline correction applied\n",
      "0 projection items activated\n",
      "(302, 1921)\n",
      "270\n",
      "270\n",
      "270\n",
      "270\n",
      "Condition LaughPosed\n",
      "Reading /home/claraelk/scratch/laughter_data/preproc_erp/sub-02/ses-recording/meg/sub-02_ses-recording_task-LaughterActive_proc-clean_epo.fif ...\n",
      "    Read 5 compensation matrices\n",
      "    Found the data of interest:\n",
      "        t =    -100.00 ...    1500.00 ms\n",
      "        5 CTF compensation matrices available\n",
      "Adding metadata with 7 columns\n",
      "299 matching events found\n",
      "No baseline correction applied\n",
      "0 projection items activated\n"
     ]
    },
    {
     "ename": "KeyboardInterrupt",
     "evalue": "",
     "output_type": "error",
     "traceback": [
      "\u001b[0;31m---------------------------------------------------------------------------\u001b[0m",
      "\u001b[0;31mKeyboardInterrupt\u001b[0m                         Traceback (most recent call last)",
      "Cell \u001b[0;32mIn[5], line 16\u001b[0m\n\u001b[1;32m     14\u001b[0m _, epo_path \u001b[38;5;241m=\u001b[39m get_bids_file(PATH_ERP_PREPROC, task\u001b[38;5;241m=\u001b[39mtask, subj\u001b[38;5;241m=\u001b[39msubj, stage\u001b[38;5;241m=\u001b[39m\u001b[38;5;124m\"\u001b[39m\u001b[38;5;124mproc-clean_epo\u001b[39m\u001b[38;5;124m\"\u001b[39m)\n\u001b[1;32m     15\u001b[0m epochs \u001b[38;5;241m=\u001b[39m mne\u001b[38;5;241m.\u001b[39mread_epochs(epo_path, verbose\u001b[38;5;241m=\u001b[39m\u001b[38;5;28;01mNone\u001b[39;00m)\n\u001b[0;32m---> 16\u001b[0m evk_cond \u001b[38;5;241m=\u001b[39m \u001b[43mepochs\u001b[49m\u001b[43m[\u001b[49m\u001b[43mcond\u001b[49m\u001b[43m]\u001b[49m\u001b[38;5;241;43m.\u001b[39;49m\u001b[43maverage\u001b[49m\u001b[43m(\u001b[49m\u001b[43m)\u001b[49m\n\u001b[1;32m     18\u001b[0m cond_data \u001b[38;5;241m=\u001b[39m evk_cond\u001b[38;5;241m.\u001b[39mdata\n\u001b[1;32m     19\u001b[0m \u001b[38;5;28mprint\u001b[39m(cond_data\u001b[38;5;241m.\u001b[39mshape)\n",
      "File \u001b[0;32m~/notebook/lib/python3.8/site-packages/mne/epochs.py:986\u001b[0m, in \u001b[0;36mBaseEpochs.average\u001b[0;34m(self, picks, method, by_event_type)\u001b[0m\n\u001b[1;32m    984\u001b[0m         evokeds\u001b[38;5;241m.\u001b[39mappend(ev)\n\u001b[1;32m    985\u001b[0m \u001b[38;5;28;01melse\u001b[39;00m:\n\u001b[0;32m--> 986\u001b[0m     evokeds \u001b[38;5;241m=\u001b[39m \u001b[38;5;28;43mself\u001b[39;49m\u001b[38;5;241;43m.\u001b[39;49m\u001b[43m_compute_aggregate\u001b[49m\u001b[43m(\u001b[49m\u001b[43mpicks\u001b[49m\u001b[38;5;241;43m=\u001b[39;49m\u001b[43mpicks\u001b[49m\u001b[43m,\u001b[49m\u001b[43m \u001b[49m\u001b[43mmode\u001b[49m\u001b[38;5;241;43m=\u001b[39;49m\u001b[43mmethod\u001b[49m\u001b[43m)\u001b[49m\n\u001b[1;32m    987\u001b[0m \u001b[38;5;28;01mreturn\u001b[39;00m evokeds\n",
      "File \u001b[0;32m~/notebook/lib/python3.8/site-packages/mne/epochs.py:1063\u001b[0m, in \u001b[0;36mBaseEpochs._compute_aggregate\u001b[0;34m(self, picks, mode)\u001b[0m\n\u001b[1;32m   1060\u001b[0m \u001b[38;5;28;01melse\u001b[39;00m:\n\u001b[1;32m   1061\u001b[0m     kind \u001b[38;5;241m=\u001b[39m \u001b[38;5;124m\"\u001b[39m\u001b[38;5;124maverage\u001b[39m\u001b[38;5;124m\"\u001b[39m\n\u001b[0;32m-> 1063\u001b[0m \u001b[38;5;28;01mreturn\u001b[39;00m \u001b[38;5;28;43mself\u001b[39;49m\u001b[38;5;241;43m.\u001b[39;49m\u001b[43m_evoked_from_epoch_data\u001b[49m\u001b[43m(\u001b[49m\u001b[43mdata\u001b[49m\u001b[43m,\u001b[49m\u001b[43m \u001b[49m\u001b[38;5;28;43mself\u001b[39;49m\u001b[38;5;241;43m.\u001b[39;49m\u001b[43minfo\u001b[49m\u001b[43m,\u001b[49m\u001b[43m \u001b[49m\u001b[43mpicks\u001b[49m\u001b[43m,\u001b[49m\u001b[43m \u001b[49m\u001b[43mn_events\u001b[49m\u001b[43m,\u001b[49m\n\u001b[1;32m   1064\u001b[0m \u001b[43m                                    \u001b[49m\u001b[43mkind\u001b[49m\u001b[43m,\u001b[49m\u001b[43m \u001b[49m\u001b[38;5;28;43mself\u001b[39;49m\u001b[38;5;241;43m.\u001b[39;49m\u001b[43m_name\u001b[49m\u001b[43m)\u001b[49m\n",
      "File \u001b[0;32m~/notebook/lib/python3.8/site-packages/mne/epochs.py:1085\u001b[0m, in \u001b[0;36mBaseEpochs._evoked_from_epoch_data\u001b[0;34m(self, data, info, picks, n_events, kind, comment)\u001b[0m\n\u001b[1;32m   1083\u001b[0m info \u001b[38;5;241m=\u001b[39m deepcopy(info)\n\u001b[1;32m   1084\u001b[0m \u001b[38;5;66;03m# don't apply baseline correction; we'll set evoked.baseline manually\u001b[39;00m\n\u001b[0;32m-> 1085\u001b[0m evoked \u001b[38;5;241m=\u001b[39m \u001b[43mEvokedArray\u001b[49m\u001b[43m(\u001b[49m\u001b[43mdata\u001b[49m\u001b[43m,\u001b[49m\u001b[43m \u001b[49m\u001b[43minfo\u001b[49m\u001b[43m,\u001b[49m\u001b[43m \u001b[49m\u001b[43mtmin\u001b[49m\u001b[38;5;241;43m=\u001b[39;49m\u001b[38;5;28;43mself\u001b[39;49m\u001b[38;5;241;43m.\u001b[39;49m\u001b[43mtimes\u001b[49m\u001b[43m[\u001b[49m\u001b[38;5;241;43m0\u001b[39;49m\u001b[43m]\u001b[49m\u001b[43m,\u001b[49m\u001b[43m \u001b[49m\u001b[43mcomment\u001b[49m\u001b[38;5;241;43m=\u001b[39;49m\u001b[43mcomment\u001b[49m\u001b[43m,\u001b[49m\n\u001b[1;32m   1086\u001b[0m \u001b[43m                     \u001b[49m\u001b[43mnave\u001b[49m\u001b[38;5;241;43m=\u001b[39;49m\u001b[43mn_events\u001b[49m\u001b[43m,\u001b[49m\u001b[43m \u001b[49m\u001b[43mkind\u001b[49m\u001b[38;5;241;43m=\u001b[39;49m\u001b[43mkind\u001b[49m\u001b[43m,\u001b[49m\u001b[43m \u001b[49m\u001b[43mbaseline\u001b[49m\u001b[38;5;241;43m=\u001b[39;49m\u001b[38;5;28;43;01mNone\u001b[39;49;00m\u001b[43m)\u001b[49m\n\u001b[1;32m   1087\u001b[0m evoked\u001b[38;5;241m.\u001b[39mbaseline \u001b[38;5;241m=\u001b[39m \u001b[38;5;28mself\u001b[39m\u001b[38;5;241m.\u001b[39mbaseline\n\u001b[1;32m   1089\u001b[0m \u001b[38;5;66;03m# the above constructor doesn't recreate the times object precisely\u001b[39;00m\n\u001b[1;32m   1090\u001b[0m \u001b[38;5;66;03m# due to numerical precision issues\u001b[39;00m\n",
      "File \u001b[0;32m<decorator-gen-254>:12\u001b[0m, in \u001b[0;36m__init__\u001b[0;34m(self, data, info, tmin, comment, nave, kind, baseline, verbose)\u001b[0m\n",
      "File \u001b[0;32m~/notebook/lib/python3.8/site-packages/mne/evoked.py:940\u001b[0m, in \u001b[0;36mEvokedArray.__init__\u001b[0;34m(self, data, info, tmin, comment, nave, kind, baseline, verbose)\u001b[0m\n\u001b[1;32m    938\u001b[0m \u001b[38;5;28mself\u001b[39m\u001b[38;5;241m.\u001b[39m_raw_times \u001b[38;5;241m=\u001b[39m \u001b[38;5;28mself\u001b[39m\u001b[38;5;241m.\u001b[39mtimes\u001b[38;5;241m.\u001b[39mcopy()\n\u001b[1;32m    939\u001b[0m \u001b[38;5;28mself\u001b[39m\u001b[38;5;241m.\u001b[39m_decim \u001b[38;5;241m=\u001b[39m \u001b[38;5;241m1\u001b[39m\n\u001b[0;32m--> 940\u001b[0m \u001b[38;5;28mself\u001b[39m\u001b[38;5;241m.\u001b[39minfo \u001b[38;5;241m=\u001b[39m \u001b[43minfo\u001b[49m\u001b[38;5;241;43m.\u001b[39;49m\u001b[43mcopy\u001b[49m\u001b[43m(\u001b[49m\u001b[43m)\u001b[49m  \u001b[38;5;66;03m# do not modify original info\u001b[39;00m\n\u001b[1;32m    941\u001b[0m \u001b[38;5;28mself\u001b[39m\u001b[38;5;241m.\u001b[39mnave \u001b[38;5;241m=\u001b[39m nave\n\u001b[1;32m    942\u001b[0m \u001b[38;5;28mself\u001b[39m\u001b[38;5;241m.\u001b[39mkind \u001b[38;5;241m=\u001b[39m kind\n",
      "File \u001b[0;32m~/notebook/lib/python3.8/site-packages/mne/io/meas_info.py:929\u001b[0m, in \u001b[0;36mInfo.copy\u001b[0;34m(self)\u001b[0m\n\u001b[1;32m    921\u001b[0m \u001b[38;5;28;01mdef\u001b[39;00m \u001b[38;5;21mcopy\u001b[39m(\u001b[38;5;28mself\u001b[39m):\n\u001b[1;32m    922\u001b[0m \u001b[38;5;250m    \u001b[39m\u001b[38;5;124;03m\"\"\"Copy the instance.\u001b[39;00m\n\u001b[1;32m    923\u001b[0m \n\u001b[1;32m    924\u001b[0m \u001b[38;5;124;03m    Returns\u001b[39;00m\n\u001b[0;32m   (...)\u001b[0m\n\u001b[1;32m    927\u001b[0m \u001b[38;5;124;03m        The copied info.\u001b[39;00m\n\u001b[1;32m    928\u001b[0m \u001b[38;5;124;03m    \"\"\"\u001b[39;00m\n\u001b[0;32m--> 929\u001b[0m     \u001b[38;5;28;01mreturn\u001b[39;00m \u001b[43mdeepcopy\u001b[49m\u001b[43m(\u001b[49m\u001b[38;5;28;43mself\u001b[39;49m\u001b[43m)\u001b[49m\n",
      "File \u001b[0;32m/cvmfs/soft.computecanada.ca/easybuild/software/2020/avx2/Core/python/3.8.10/lib/python3.8/copy.py:153\u001b[0m, in \u001b[0;36mdeepcopy\u001b[0;34m(x, memo, _nil)\u001b[0m\n\u001b[1;32m    151\u001b[0m copier \u001b[38;5;241m=\u001b[39m \u001b[38;5;28mgetattr\u001b[39m(x, \u001b[38;5;124m\"\u001b[39m\u001b[38;5;124m__deepcopy__\u001b[39m\u001b[38;5;124m\"\u001b[39m, \u001b[38;5;28;01mNone\u001b[39;00m)\n\u001b[1;32m    152\u001b[0m \u001b[38;5;28;01mif\u001b[39;00m copier \u001b[38;5;129;01mis\u001b[39;00m \u001b[38;5;129;01mnot\u001b[39;00m \u001b[38;5;28;01mNone\u001b[39;00m:\n\u001b[0;32m--> 153\u001b[0m     y \u001b[38;5;241m=\u001b[39m \u001b[43mcopier\u001b[49m\u001b[43m(\u001b[49m\u001b[43mmemo\u001b[49m\u001b[43m)\u001b[49m\n\u001b[1;32m    154\u001b[0m \u001b[38;5;28;01melse\u001b[39;00m:\n\u001b[1;32m    155\u001b[0m     reductor \u001b[38;5;241m=\u001b[39m dispatch_table\u001b[38;5;241m.\u001b[39mget(\u001b[38;5;28mcls\u001b[39m)\n",
      "File \u001b[0;32m~/notebook/lib/python3.8/site-packages/mne/io/meas_info.py:1067\u001b[0m, in \u001b[0;36mInfo.__deepcopy__\u001b[0;34m(self, memodict)\u001b[0m\n\u001b[1;32m   1065\u001b[0m         result[k] \u001b[38;5;241m=\u001b[39m hms\n\u001b[1;32m   1066\u001b[0m     \u001b[38;5;28;01melse\u001b[39;00m:\n\u001b[0;32m-> 1067\u001b[0m         result[k] \u001b[38;5;241m=\u001b[39m \u001b[43mdeepcopy\u001b[49m\u001b[43m(\u001b[49m\u001b[43mv\u001b[49m\u001b[43m,\u001b[49m\u001b[43m \u001b[49m\u001b[43mmemodict\u001b[49m\u001b[43m)\u001b[49m\n\u001b[1;32m   1068\u001b[0m result\u001b[38;5;241m.\u001b[39m_unlocked \u001b[38;5;241m=\u001b[39m \u001b[38;5;28;01mFalse\u001b[39;00m\n\u001b[1;32m   1069\u001b[0m \u001b[38;5;28;01mreturn\u001b[39;00m result\n",
      "File \u001b[0;32m/cvmfs/soft.computecanada.ca/easybuild/software/2020/avx2/Core/python/3.8.10/lib/python3.8/copy.py:146\u001b[0m, in \u001b[0;36mdeepcopy\u001b[0;34m(x, memo, _nil)\u001b[0m\n\u001b[1;32m    144\u001b[0m copier \u001b[38;5;241m=\u001b[39m _deepcopy_dispatch\u001b[38;5;241m.\u001b[39mget(\u001b[38;5;28mcls\u001b[39m)\n\u001b[1;32m    145\u001b[0m \u001b[38;5;28;01mif\u001b[39;00m copier \u001b[38;5;129;01mis\u001b[39;00m \u001b[38;5;129;01mnot\u001b[39;00m \u001b[38;5;28;01mNone\u001b[39;00m:\n\u001b[0;32m--> 146\u001b[0m     y \u001b[38;5;241m=\u001b[39m \u001b[43mcopier\u001b[49m\u001b[43m(\u001b[49m\u001b[43mx\u001b[49m\u001b[43m,\u001b[49m\u001b[43m \u001b[49m\u001b[43mmemo\u001b[49m\u001b[43m)\u001b[49m\n\u001b[1;32m    147\u001b[0m \u001b[38;5;28;01melse\u001b[39;00m:\n\u001b[1;32m    148\u001b[0m     \u001b[38;5;28;01mif\u001b[39;00m \u001b[38;5;28missubclass\u001b[39m(\u001b[38;5;28mcls\u001b[39m, \u001b[38;5;28mtype\u001b[39m):\n",
      "File \u001b[0;32m/cvmfs/soft.computecanada.ca/easybuild/software/2020/avx2/Core/python/3.8.10/lib/python3.8/copy.py:205\u001b[0m, in \u001b[0;36m_deepcopy_list\u001b[0;34m(x, memo, deepcopy)\u001b[0m\n\u001b[1;32m    203\u001b[0m append \u001b[38;5;241m=\u001b[39m y\u001b[38;5;241m.\u001b[39mappend\n\u001b[1;32m    204\u001b[0m \u001b[38;5;28;01mfor\u001b[39;00m a \u001b[38;5;129;01min\u001b[39;00m x:\n\u001b[0;32m--> 205\u001b[0m     append(\u001b[43mdeepcopy\u001b[49m\u001b[43m(\u001b[49m\u001b[43ma\u001b[49m\u001b[43m,\u001b[49m\u001b[43m \u001b[49m\u001b[43mmemo\u001b[49m\u001b[43m)\u001b[49m)\n\u001b[1;32m    206\u001b[0m \u001b[38;5;28;01mreturn\u001b[39;00m y\n",
      "File \u001b[0;32m/cvmfs/soft.computecanada.ca/easybuild/software/2020/avx2/Core/python/3.8.10/lib/python3.8/copy.py:153\u001b[0m, in \u001b[0;36mdeepcopy\u001b[0;34m(x, memo, _nil)\u001b[0m\n\u001b[1;32m    151\u001b[0m copier \u001b[38;5;241m=\u001b[39m \u001b[38;5;28mgetattr\u001b[39m(x, \u001b[38;5;124m\"\u001b[39m\u001b[38;5;124m__deepcopy__\u001b[39m\u001b[38;5;124m\"\u001b[39m, \u001b[38;5;28;01mNone\u001b[39;00m)\n\u001b[1;32m    152\u001b[0m \u001b[38;5;28;01mif\u001b[39;00m copier \u001b[38;5;129;01mis\u001b[39;00m \u001b[38;5;129;01mnot\u001b[39;00m \u001b[38;5;28;01mNone\u001b[39;00m:\n\u001b[0;32m--> 153\u001b[0m     y \u001b[38;5;241m=\u001b[39m \u001b[43mcopier\u001b[49m\u001b[43m(\u001b[49m\u001b[43mmemo\u001b[49m\u001b[43m)\u001b[49m\n\u001b[1;32m    154\u001b[0m \u001b[38;5;28;01melse\u001b[39;00m:\n\u001b[1;32m    155\u001b[0m     reductor \u001b[38;5;241m=\u001b[39m dispatch_table\u001b[38;5;241m.\u001b[39mget(\u001b[38;5;28mcls\u001b[39m)\n",
      "File \u001b[0;32m~/notebook/lib/python3.8/site-packages/mne/io/_digitization.py:151\u001b[0m, in \u001b[0;36mDigPoint.__deepcopy__\u001b[0;34m(self, memodict)\u001b[0m\n\u001b[1;32m    149\u001b[0m \u001b[38;5;28;01mdef\u001b[39;00m \u001b[38;5;21m__deepcopy__\u001b[39m(\u001b[38;5;28mself\u001b[39m, memodict):\n\u001b[1;32m    150\u001b[0m \u001b[38;5;250m    \u001b[39m\u001b[38;5;124;03m\"\"\"Make a deepcopy.\"\"\"\u001b[39;00m\n\u001b[0;32m--> 151\u001b[0m     \u001b[38;5;28;01mreturn\u001b[39;00m \u001b[43mDigPoint\u001b[49m\u001b[43m(\u001b[49m\n\u001b[1;32m    152\u001b[0m \u001b[43m        \u001b[49m\u001b[43mkind\u001b[49m\u001b[38;5;241;43m=\u001b[39;49m\u001b[38;5;28;43mself\u001b[39;49m\u001b[43m[\u001b[49m\u001b[38;5;124;43m'\u001b[39;49m\u001b[38;5;124;43mkind\u001b[39;49m\u001b[38;5;124;43m'\u001b[39;49m\u001b[43m]\u001b[49m\u001b[43m,\u001b[49m\u001b[43m \u001b[49m\u001b[43mr\u001b[49m\u001b[38;5;241;43m=\u001b[39;49m\u001b[38;5;28;43mself\u001b[39;49m\u001b[43m[\u001b[49m\u001b[38;5;124;43m'\u001b[39;49m\u001b[38;5;124;43mr\u001b[39;49m\u001b[38;5;124;43m'\u001b[39;49m\u001b[43m]\u001b[49m\u001b[38;5;241;43m.\u001b[39;49m\u001b[43mcopy\u001b[49m\u001b[43m(\u001b[49m\u001b[43m)\u001b[49m\u001b[43m,\u001b[49m\n\u001b[1;32m    153\u001b[0m \u001b[43m        \u001b[49m\u001b[43mident\u001b[49m\u001b[38;5;241;43m=\u001b[39;49m\u001b[38;5;28;43mself\u001b[39;49m\u001b[43m[\u001b[49m\u001b[38;5;124;43m'\u001b[39;49m\u001b[38;5;124;43mident\u001b[39;49m\u001b[38;5;124;43m'\u001b[39;49m\u001b[43m]\u001b[49m\u001b[43m,\u001b[49m\u001b[43m \u001b[49m\u001b[43mcoord_frame\u001b[49m\u001b[38;5;241;43m=\u001b[39;49m\u001b[38;5;28;43mself\u001b[39;49m\u001b[43m[\u001b[49m\u001b[38;5;124;43m'\u001b[39;49m\u001b[38;5;124;43mcoord_frame\u001b[39;49m\u001b[38;5;124;43m'\u001b[39;49m\u001b[43m]\u001b[49m\u001b[43m)\u001b[49m\n",
      "\u001b[0;31mKeyboardInterrupt\u001b[0m: "
     ]
    }
   ],
   "source": [
    "table = {}\n",
    "PATH_ERP_PREPROC = '/home/claraelk/scratch/laughter_data/preproc_erp/'\n",
    "for subj in subj_list : \n",
    "    \n",
    "    subj_column = []\n",
    "    chan_column = []\n",
    "    cond_column = []\n",
    "    \n",
    "    for idx, cond in enumerate([cond1, cond2]) :\n",
    "        print('Condition', cond)\n",
    "        \n",
    "        CHAN = np.arange(0, 270, 1)\n",
    "        \n",
    "        _, epo_path = get_bids_file(PATH_ERP_PREPROC, task=task, subj=subj, stage=\"proc-clean_epo\")\n",
    "        epochs = mne.read_epochs(epo_path, verbose=None)\n",
    "        evk_cond = epochs[cond].average()\n",
    "\n",
    "        cond_data = evk_cond.data\n",
    "        print(cond_data.shape)\n",
    "\n",
    "        for i_chan, chan in enumerate(CHAN) :\n",
    "            # Add subject, channel and condition name \n",
    "            subj_column.append(subj)\n",
    "            chan_column.append(epochs.info['ch_names'][i_chan]) # Find channel name\n",
    "            cond_column.append(cond)\n",
    "            \n",
    "        print(len(subj_column))\n",
    "        print(len(chan_column))\n",
    "        print(len(cond_column))\n",
    "        \n",
    "        table['subjectID'] = subj_column\n",
    "        table['channel_names'] = chan_column\n",
    "        table['condition'] = cond_column\n",
    "        \n",
    "        for i_ti, time in enumerate(evk_cond.times) : \n",
    "            data = []\n",
    "            for chan in CHAN :\n",
    "                # Add data per time and channel\n",
    "                data.append(cond_data[chan, i_ti])\n",
    "            if idx == 0 :\n",
    "                table[str(time)] = data\n",
    "            else :\n",
    "                for elt in data : \n",
    "                    table[str(time)].append(elt) \n",
    "                \n",
    "        print(len(table[str(time)]))\n",
    "        \n",
    "    print('Create csv file')\n",
    "    fname = f'subj-{subj}_task-{task}_run-all_cond-{cond1}-{cond2}_Filter-30Hz_ave.csv'\n",
    "    fpath = os.path.join(FIG_PATH, 'evokeds_csv_Filter-30Hz', fname)\n",
    "    df_evokeds = pd.DataFrame(table)\n",
    "    print(df_evokeds.head())\n",
    "\n",
    "    if save == True : \n",
    "\n",
    "        if os.path.exists(os.path.join(FIG_PATH, 'evokeds_csv')) == False:\n",
    "            os.mkdir(os.path.join(FIG_PATH, 'evokeds_csv'))\n",
    "\n",
    "        df_evokeds.to_csv(fpath, index=False)\n",
    "        print(f'Save done : {fname}')"
   ]
  },
  {
   "cell_type": "code",
   "execution_count": 6,
   "id": "778032b4",
   "metadata": {
    "scrolled": true
   },
   "outputs": [
    {
     "name": "stdout",
     "output_type": "stream",
     "text": [
      "subj-12_task-LaughterActive_run-all_cond-LaughReal-LaughPosed-SR600_ave.csv\n",
      "subj-14_task-LaughterActive_run-all_cond-LaughReal-LaughPosed-SR600_ave.csv\n",
      "subj-18_task-LaughterActive_run-all_cond-LaughReal-LaughPosed-SR600_ave.csv\n",
      "subj-23_task-LaughterActive_run-all_cond-LaughReal-LaughPosed-SR600_ave.csv\n",
      "subj-06_task-LaughterActive_run-all_cond-LaughReal-LaughPosed-SR600_ave.csv\n",
      "subj-25_task-LaughterActive_run-all_cond-LaughReal-LaughPosed-SR600_ave.csv\n",
      "subj-30_task-LaughterActive_run-all_cond-LaughReal-LaughPosed-SR600_ave.csv\n",
      "subj-13_task-LaughterActive_run-all_cond-LaughReal-LaughPosed-SR600_ave.csv\n",
      "subj-15_task-LaughterActive_run-all_cond-LaughReal-LaughPosed-SR600_ave.csv\n",
      "subj-19_task-LaughterActive_run-all_cond-LaughReal-LaughPosed-SR600_ave.csv\n",
      "subj-01_task-LaughterActive_run-all_cond-LaughReal-LaughPosed-SR600_ave.csv\n",
      "subj-22_task-LaughterActive_run-all_cond-LaughReal-LaughPosed-SR600_ave.csv\n",
      "subj-24_task-LaughterActive_run-all_cond-LaughReal-LaughPosed-SR600_ave.csv\n",
      "subj-07_task-LaughterActive_run-all_cond-LaughReal-LaughPosed-SR600_ave.csv\n",
      "subj-28_task-LaughterActive_run-all_cond-LaughReal-LaughPosed-SR600_ave.csv\n",
      "subj-16_task-LaughterActive_run-all_cond-LaughReal-LaughPosed-SR600_ave.csv\n",
      "subj-10_task-LaughterActive_run-all_cond-LaughReal-LaughPosed-SR600_ave.csv\n",
      "subj-04_task-LaughterActive_run-all_cond-LaughReal-LaughPosed-SR600_ave.csv\n",
      "subj-21_task-LaughterActive_run-all_cond-LaughReal-LaughPosed-SR600_ave.csv\n",
      "subj-02_task-LaughterActive_run-all_cond-LaughReal-LaughPosed-SR600_ave.csv\n",
      "subj-08_task-LaughterActive_run-all_cond-LaughReal-LaughPosed-SR600_ave.csv\n",
      "subj-32_task-LaughterActive_run-all_cond-LaughReal-LaughPosed-SR600_ave.csv\n",
      "subj-11_task-LaughterActive_run-all_cond-LaughReal-LaughPosed-SR600_ave.csv\n",
      "subj-05_task-LaughterActive_run-all_cond-LaughReal-LaughPosed-SR600_ave.csv\n",
      "subj-03_task-LaughterActive_run-all_cond-LaughReal-LaughPosed-SR600_ave.csv\n",
      "subj-20_task-LaughterActive_run-all_cond-LaughReal-LaughPosed-SR600_ave.csv\n",
      "Save done : subj-all_task-LaughterActive_run-all_cond-LaughReal-LaughPosed-SR600_ave.csv\n"
     ]
    }
   ],
   "source": [
    "save = True\n",
    "# Combine csv of all subject\n",
    "all_df = []\n",
    "csv_files = os.listdir(os.path.join(FIG_PATH, 'evokeds_csv'))\n",
    "\n",
    "df_append = pd.DataFrame() #append all files together\n",
    "\n",
    "for file in csv_files[:-2]:\n",
    "    if 'Filter-30Hz' in file : \n",
    "        print(file)\n",
    "        df_temp = pd.read_csv(os.path.join(FIG_PATH, 'evokeds_csv', file))\n",
    "        df_append = pd.concat([df_append, df_temp], ignore_index=False)\n",
    "                          \n",
    "df_append = df_append.sort_values(by=['subjectID'])\n",
    "\n",
    "if save == True : \n",
    "    fname = f'subj-all_task-{task}_run-all_cond-{cond1}-{cond2}_Filter-30Hz_ave.csv'\n",
    "    fpath = os.path.join(FIG_PATH, 'all_evokeds_csv', fname)\n",
    "    \n",
    "    if os.path.exists(os.path.join(FIG_PATH, 'all_evokeds_csv')) == False:\n",
    "        os.mkdir(os.path.join(FIG_PATH, 'all_evokeds_csv'))\n",
    "\n",
    "    df_append.to_csv(fpath, index=False)\n",
    "    print(f'Save done : {fname}')"
   ]
  },
  {
   "cell_type": "code",
   "execution_count": 13,
   "id": "a9e283b6",
   "metadata": {},
   "outputs": [
    {
     "data": {
      "text/plain": [
       "array(['LaughPosed', 'LaughReal'], dtype=object)"
      ]
     },
     "execution_count": 13,
     "metadata": {},
     "output_type": "execute_result"
    }
   ],
   "source": [
    "np.unique(df_append['condition'])"
   ]
  },
  {
   "cell_type": "code",
   "execution_count": 3,
   "id": "ba27d6f4",
   "metadata": {},
   "outputs": [],
   "source": [
    "fname = f'subj-all_task-{task}_run-all_cond-{cond1}-{cond2}-ave.csv'\n",
    "fpath = os.path.join(FIG_PATH, 'all_evokeds_csv', fname)\n",
    "df_50_1500 = pd.read_csv(fpath)"
   ]
  },
  {
   "cell_type": "code",
   "execution_count": 4,
   "id": "1b1a1e7a",
   "metadata": {},
   "outputs": [
    {
     "name": "stdout",
     "output_type": "stream",
     "text": [
      "Index(['subjectID', 'channel_names', 'condition', '-0.5',\n",
      "       '-0.49916666666666665', '-0.49833333333333335', '-0.4975',\n",
      "       '-0.49666666666666665', '-0.49583333333333335', '-0.495',\n",
      "       ...\n",
      "       '1.4925', '1.4933333333333334', '1.4941666666666666', '1.495',\n",
      "       '1.4958333333333333', '1.4966666666666666', '1.4975',\n",
      "       '1.4983333333333333', '1.4991666666666668', '1.5'],\n",
      "      dtype='object', length=2404)\n"
     ]
    }
   ],
   "source": [
    "print(df_50_1500.columns)"
   ]
  },
  {
   "cell_type": "code",
   "execution_count": 6,
   "id": "f1cca45a",
   "metadata": {},
   "outputs": [
    {
     "data": {
      "text/plain": [
       "(array([663]),)"
      ]
     },
     "execution_count": 6,
     "metadata": {},
     "output_type": "execute_result"
    }
   ],
   "source": [
    "np.where(df_50_1500.columns == '0.05')"
   ]
  },
  {
   "cell_type": "code",
   "execution_count": 9,
   "id": "e878549b",
   "metadata": {},
   "outputs": [
    {
     "data": {
      "text/plain": [
       "Index(['0.05', '0.050833333333333335', '0.051666666666666666', '0.0525',\n",
       "       '0.05333333333333334', '0.05416666666666667', '0.055',\n",
       "       '0.05583333333333333', '0.056666666666666664', '0.0575',\n",
       "       ...\n",
       "       '1.4925', '1.4933333333333334', '1.4941666666666666', '1.495',\n",
       "       '1.4958333333333333', '1.4966666666666666', '1.4975',\n",
       "       '1.4983333333333333', '1.4991666666666668', '1.5'],\n",
       "      dtype='object', length=1741)"
      ]
     },
     "execution_count": 9,
     "metadata": {},
     "output_type": "execute_result"
    }
   ],
   "source": [
    "df_50_1500.columns[663:]"
   ]
  },
  {
   "cell_type": "code",
   "execution_count": null,
   "id": "671de9bd",
   "metadata": {},
   "outputs": [],
   "source": []
  }
 ],
 "metadata": {
  "kernelspec": {
   "display_name": "Python 3 (ipykernel)",
   "language": "python",
   "name": "python3"
  },
  "language_info": {
   "codemirror_mode": {
    "name": "ipython",
    "version": 3
   },
   "file_extension": ".py",
   "mimetype": "text/x-python",
   "name": "python",
   "nbconvert_exporter": "python",
   "pygments_lexer": "ipython3",
   "version": "3.8.10"
  }
 },
 "nbformat": 4,
 "nbformat_minor": 5
}
