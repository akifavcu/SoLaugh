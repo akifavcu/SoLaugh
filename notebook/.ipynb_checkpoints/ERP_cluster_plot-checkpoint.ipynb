{
 "cells": [
  {
   "cell_type": "markdown",
   "id": "c72edc3b",
   "metadata": {},
   "source": [
    "## Importations"
   ]
  },
  {
   "cell_type": "code",
   "execution_count": 1,
   "id": "0b0462b2",
   "metadata": {},
   "outputs": [],
   "source": [
    "import mne\n",
    "import os\n",
    "import scipy.stats\n",
    "import matplotlib.pyplot as plt\n",
    "import numpy as np\n",
    "import pickle\n",
    "from src.utils import get_bids_file\n",
    "from src.params import RESULT_PATH, SUBJ_LIST, ACTIVE_RUN, FIG_PATH, EVENTS_ID\n",
    "from mpl_toolkits.axes_grid1 import make_axes_locatable\n",
    "from mne.viz import plot_compare_evokeds"
   ]
  },
  {
   "cell_type": "code",
   "execution_count": 20,
   "id": "d2f5dfce",
   "metadata": {},
   "outputs": [],
   "source": [
    "# Remove plot for compute canada\n",
    "def plot_ERP(condition1, condition2, cond1_name, cond2_name, picks) :\n",
    "    print(condition1)\n",
    "    print(condition2)\n",
    "    \n",
    "    condition1.pick_types(meg=True, ref_meg = False,  exclude='bads')\n",
    "    condition2.pick_types(meg=True, ref_meg = False,  exclude='bads')\n",
    "    \n",
    "    # Plot each condition separately\n",
    "    fig_cond1 = condition1.plot_joint(picks = picks)\n",
    "    fname_cond1 = FIG_PATH + \"plot-join_cond-\" + cond1_name\n",
    "    fig_cond1.savefig(fname_cond1)\n",
    "    plt.show()\n",
    "\n",
    "    fig_cond2 = condition2.plot_joint(picks = picks)\n",
    "    fname_cond2 = FIG_PATH + \"plot-join_cond-\" + cond2_name\n",
    "    fig_cond2.savefig(fname_cond2)\n",
    "    plt.show()\n",
    "\n",
    "    # Plot ERPs LaughReal vs LaughPosed\n",
    "    evoked = dict(real = condition1, posed = condition2)\n",
    "    mne.viz.plot_compare_evokeds(evoked, picks = picks, combine='mean', time_unit='ms')\n",
    "    fname_ERP = FIG_PATH + \"ERP_cond1-\" + cond1_name + \"_cond2-\" + cond2_name\n",
    "    plt.savefig(fname_ERP) # Doesn't work\n",
    "    plt.show()\n"
   ]
  },
  {
   "cell_type": "code",
   "execution_count": 3,
   "id": "d215fad6",
   "metadata": {},
   "outputs": [],
   "source": [
    "def visualize_cluster(epochs, cluster_stats, event_id, task, conditions, cond1, cond2) :\n",
    "    epochs.pick_types(meg=True, ref_meg = False,  exclude='bads')\n",
    "    F_obs, clusters, p_values, _ = cluster_stats\n",
    "    \n",
    "    p_accept = 0.05\n",
    "    good_cluster_inds = np.where(p_values < p_accept)[0]\n",
    "    print(\"Good cluster :\", good_cluster_inds)\n",
    "\n",
    "    # configure variables for visualization\n",
    "    colors = {cond1: \"crimson\", cond2: 'steelblue'}\n",
    "\n",
    "    # organize data for plotting\n",
    "    evokeds = {cond: epochs[cond].average() for cond in event_id}\n",
    "               \n",
    "    # loop over clusters\n",
    "    for i_clu, clu_idx in enumerate(good_cluster_inds):\n",
    "        # unpack cluster information, get unique indices\n",
    "        time_inds, space_inds = np.squeeze(clusters[clu_idx])\n",
    "        ch_inds = np.unique(space_inds)\n",
    "        time_inds = np.unique(time_inds)\n",
    "\n",
    "        # get topography for F stat\n",
    "        f_map = F_obs[time_inds, ...].mean(axis=0)\n",
    "\n",
    "        # get signals at the sensors contributing to the cluster\n",
    "        sig_times = epochs.times[time_inds]\n",
    "\n",
    "        # create spatial mask\n",
    "        mask = np.zeros((f_map.shape[0], 1), dtype=bool)\n",
    "        mask[ch_inds, :] = True\n",
    "\n",
    "        # initialize figure\n",
    "        fig, ax_topo = plt.subplots(1, 1, figsize=(10, 3))\n",
    "\n",
    "        # plot average test statistic and mark significant sensors\n",
    "        f_evoked = mne.EvokedArray(f_map[:, np.newaxis], epochs.info, tmin=0)\n",
    "        f_evoked.plot_topomap(times=0, mask=mask, axes=ax_topo, cmap='Reds',\n",
    "                              vlim=(np.min, np.max), show=False,\n",
    "                              colorbar=False, mask_params=dict(markersize=10))\n",
    "\n",
    "        image = ax_topo.images[0]\n",
    "\n",
    "        # remove the title that would otherwise say \"0.000 s\"\n",
    "        ax_topo.set_title(\"\")\n",
    "\n",
    "        # create additional axes (for ERF and colorbar)\n",
    "        divider = make_axes_locatable(ax_topo)\n",
    "\n",
    "        # add axes for colorbar\n",
    "        ax_colorbar = divider.append_axes('right', size='5%', pad=0.05)\n",
    "        plt.colorbar(image, cax=ax_colorbar)\n",
    "        ax_topo.set_xlabel(\n",
    "            'Averaged F-map ({:0.3f} - {:0.3f} s)'.format(*sig_times[[0, -1]]))\n",
    "\n",
    "        # add new axis for time courses and plot time courses\n",
    "        ax_signals = divider.append_axes('right', size='300%', pad=1.2)\n",
    "        title = 'Cluster #{0}, {1} sensor'.format(i_clu + 1, len(ch_inds))\n",
    "        if len(ch_inds) > 1:\n",
    "            title += \"s (mean)\"\n",
    "        plot_compare_evokeds(evokeds, title=title, picks=ch_inds, axes=ax_signals,\n",
    "                             colors=colors, show=False,\n",
    "                             split_legend=True, truncate_yaxis='auto')\n",
    "\n",
    "        # plot temporal cluster extent\n",
    "        ymin, ymax = ax_signals.get_ylim()\n",
    "        ax_signals.fill_betweenx((ymin, ymax), sig_times[0], sig_times[-1],\n",
    "                                 color='orange', alpha=0.3)\n",
    "\n",
    "        # clean up viz\n",
    "        mne.viz.tight_layout(fig=fig)\n",
    "        fig.subplots_adjust(bottom=.05)\n",
    "        fig.savefig(FIG_PATH + '/erp/sub-all_run-all_task-{}_cond-{}_meas-cluster_erp.png'.format(task, conditions))\n",
    "        plt.show()"
   ]
  },
  {
   "cell_type": "code",
   "execution_count": 10,
   "id": "134a8972",
   "metadata": {},
   "outputs": [],
   "source": [
    "# Select what conditions to compute\n",
    "task = \"LaughterActive\"\n",
    "cond1 = \"Good\"\n",
    "cond2 = \"Miss\"\n",
    "conditions = cond1 + '-' + cond2\n",
    "condition_list = [cond1, cond2]\n",
    "event_id = dict()\n",
    "picks = \"meg\" # Select MEG channels"
   ]
  },
  {
   "cell_type": "code",
   "execution_count": 19,
   "id": "4488c338",
   "metadata": {
    "scrolled": true
   },
   "outputs": [
    {
     "name": "stdout",
     "output_type": "stream",
     "text": [
      "<Evoked | 'Good' (average, N=105), -0.5 – 1.5 sec, baseline -0.5 – 0 sec, 302 ch, ~6.9 MB>\n",
      "<Evoked | 'Miss' (average, N=44), -0.5 – 1.5 sec, baseline -0.5 – 0 sec, 302 ch, ~6.9 MB>\n",
      "Removing 5 compensators from info because not all compensation channels were picked.\n",
      "Removing 5 compensators from info because not all compensation channels were picked.\n"
     ]
    },
    {
     "ename": "TypeError",
     "evalue": "Evoked.plot_joint() got an unexpected keyword argument 'time_unit'",
     "output_type": "error",
     "traceback": [
      "\u001b[0;31m---------------------------------------------------------------------------\u001b[0m",
      "\u001b[0;31mTypeError\u001b[0m                                 Traceback (most recent call last)",
      "Cell \u001b[0;32mIn[19], line 13\u001b[0m\n\u001b[1;32m     10\u001b[0m     condition2 \u001b[38;5;241m=\u001b[39m pickle\u001b[38;5;241m.\u001b[39mload(f)\n\u001b[1;32m     12\u001b[0m \u001b[38;5;66;03m# Plot ERPs\u001b[39;00m\n\u001b[0;32m---> 13\u001b[0m \u001b[43mplot_ERP\u001b[49m\u001b[43m(\u001b[49m\u001b[43mcondition1\u001b[49m\u001b[43m,\u001b[49m\u001b[43m \u001b[49m\u001b[43mcondition2\u001b[49m\u001b[43m,\u001b[49m\u001b[43m \u001b[49m\u001b[43mcond1\u001b[49m\u001b[43m,\u001b[49m\u001b[43m \u001b[49m\u001b[43mcond2\u001b[49m\u001b[43m,\u001b[49m\u001b[43m \u001b[49m\u001b[43mpicks\u001b[49m\u001b[43m)\u001b[49m\n",
      "Cell \u001b[0;32mIn[18], line 10\u001b[0m, in \u001b[0;36mplot_ERP\u001b[0;34m(condition1, condition2, cond1_name, cond2_name, picks)\u001b[0m\n\u001b[1;32m      7\u001b[0m condition2\u001b[38;5;241m.\u001b[39mpick_types(meg\u001b[38;5;241m=\u001b[39m\u001b[38;5;28;01mTrue\u001b[39;00m, ref_meg \u001b[38;5;241m=\u001b[39m \u001b[38;5;28;01mFalse\u001b[39;00m,  exclude\u001b[38;5;241m=\u001b[39m\u001b[38;5;124m'\u001b[39m\u001b[38;5;124mbads\u001b[39m\u001b[38;5;124m'\u001b[39m)\n\u001b[1;32m      9\u001b[0m \u001b[38;5;66;03m# Plot each condition separately\u001b[39;00m\n\u001b[0;32m---> 10\u001b[0m fig_cond1 \u001b[38;5;241m=\u001b[39m \u001b[43mcondition1\u001b[49m\u001b[38;5;241;43m.\u001b[39;49m\u001b[43mplot_joint\u001b[49m\u001b[43m(\u001b[49m\u001b[43mpicks\u001b[49m\u001b[43m \u001b[49m\u001b[38;5;241;43m=\u001b[39;49m\u001b[43m \u001b[49m\u001b[43mpicks\u001b[49m\u001b[43m,\u001b[49m\u001b[43m \u001b[49m\u001b[43mtime_unit\u001b[49m\u001b[38;5;241;43m=\u001b[39;49m\u001b[38;5;124;43m'\u001b[39;49m\u001b[38;5;124;43mms\u001b[39;49m\u001b[38;5;124;43m'\u001b[39;49m\u001b[43m)\u001b[49m\n\u001b[1;32m     11\u001b[0m fname_cond1 \u001b[38;5;241m=\u001b[39m FIG_PATH \u001b[38;5;241m+\u001b[39m \u001b[38;5;124m\"\u001b[39m\u001b[38;5;124mplot-join_cond-\u001b[39m\u001b[38;5;124m\"\u001b[39m \u001b[38;5;241m+\u001b[39m cond1_name\n\u001b[1;32m     12\u001b[0m fig_cond1\u001b[38;5;241m.\u001b[39msavefig(fname_cond1)\n",
      "\u001b[0;31mTypeError\u001b[0m: Evoked.plot_joint() got an unexpected keyword argument 'time_unit'"
     ]
    }
   ],
   "source": [
    "# TODO : Need to put that in params\n",
    "_, save_cond1 = get_bids_file(RESULT_PATH, task=task, stage = \"erp\", condition=cond1)\n",
    "_, save_cond2 = get_bids_file(RESULT_PATH, task=task, stage = \"erp\", condition=cond2)\n",
    "\n",
    "# Need to get the files\n",
    "with open(save_cond1, \"rb\") as f:\n",
    "    condition1 = pickle.load(f)\n",
    "\n",
    "with open(save_cond2, \"rb\") as f:\n",
    "    condition2 = pickle.load(f)\n",
    "\n",
    "# Plot ERPs\n",
    "plot_ERP(condition1, condition2, cond1, cond2, picks)"
   ]
  },
  {
   "cell_type": "code",
   "execution_count": 6,
   "id": "3b8231d9",
   "metadata": {},
   "outputs": [
    {
     "name": "stdout",
     "output_type": "stream",
     "text": [
      "=> Process task : LaughterPassive for conditions : LaughReal & LaughPosed\n"
     ]
    },
    {
     "ename": "NameError",
     "evalue": "name 'epochs_concat' is not defined",
     "output_type": "error",
     "traceback": [
      "\u001b[0;31m---------------------------------------------------------------------------\u001b[0m",
      "\u001b[0;31mNameError\u001b[0m                                 Traceback (most recent call last)",
      "Cell \u001b[0;32mIn[6], line 17\u001b[0m\n\u001b[1;32m     14\u001b[0m \u001b[38;5;28mprint\u001b[39m(\u001b[38;5;124m\"\u001b[39m\u001b[38;5;124m=> Process task :\u001b[39m\u001b[38;5;124m\"\u001b[39m, task, \u001b[38;5;124m\"\u001b[39m\u001b[38;5;124mfor conditions :\u001b[39m\u001b[38;5;124m\"\u001b[39m, cond1, \u001b[38;5;124m\"\u001b[39m\u001b[38;5;124m&\u001b[39m\u001b[38;5;124m\"\u001b[39m, cond2)\n\u001b[1;32m     16\u001b[0m \u001b[38;5;66;03m# Visualization of ERP clusters\u001b[39;00m\n\u001b[0;32m---> 17\u001b[0m visualize_cluster(\u001b[43mepochs_concat\u001b[49m, cluster_stats, event_id, task, conditions, cond1, cond2)\n",
      "\u001b[0;31mNameError\u001b[0m: name 'epochs_concat' is not defined"
     ]
    }
   ],
   "source": [
    "_, save_concat = get_bids_file(RESULT_PATH, task=task, stage = \"erp-concat\", condition=conditions)\n",
    "\n",
    "_, save_cluster_stats = get_bids_file(RESULT_PATH, task=task, stage = \"erp-clusters\", measure=\"cluster-stats\", condition = conditions)\n",
    "\n",
    "with open(save_concat, \"rb\") as f:\n",
    "    epochs_concat = pickle.load(f)\n",
    "\n",
    "with open(save_cluster_stats, 'rb') as f:\n",
    "    cluster_stats = pickle.load(f)\n",
    "\n",
    "for ev in EVENTS_ID :\n",
    "    for conds in condition_list :\n",
    "        if conds not in EVENTS_ID :\n",
    "            raise Exception(\"Condition is not an event\")\n",
    "        if conds == ev :\n",
    "            event_id[conds] = EVENTS_ID[ev]\n",
    "\n",
    "print(\"=> Process task :\", task, \"for conditions :\", cond1, \"&\", cond2)\n",
    "\n",
    "# Visualization of ERP clusters\n",
    "visualize_cluster(epochs_concat, cluster_stats, event_id, task, conditions, cond1, cond2)"
   ]
  },
  {
   "cell_type": "code",
   "execution_count": null,
   "id": "f8be92b8",
   "metadata": {},
   "outputs": [],
   "source": []
  }
 ],
 "metadata": {
  "kernelspec": {
   "display_name": "Python 3 (ipykernel)",
   "language": "python",
   "name": "python3"
  },
  "language_info": {
   "codemirror_mode": {
    "name": "ipython",
    "version": 3
   },
   "file_extension": ".py",
   "mimetype": "text/x-python",
   "name": "python",
   "nbconvert_exporter": "python",
   "pygments_lexer": "ipython3",
   "version": "3.10.8"
  }
 },
 "nbformat": 4,
 "nbformat_minor": 5
}
